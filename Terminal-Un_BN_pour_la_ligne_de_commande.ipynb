{
 "cells": [
  {
   "cell_type": "markdown",
   "metadata": {},
   "source": [
    "# Un Bloc Note pour débuter en ligne de commande"
   ]
  },
  {
   "cell_type": "markdown",
   "metadata": {},
   "source": [
    "Pour ouvrir un terminal cliquez sur le bouton `Nouveau` en haut à droite de la page d'accueil puis choisissez `Terminal`. Il s'agit plus précisément ici d'un émulateur de terminal qui simule un véritable terminal à travers une interface Web.\n",
    "\n",
    "Le texte `jupyter-pnom@jupyterhub:~` indique que vous êtes connecté sur la machine `jupyterhub` sous le nom d'utilisateur `jupyter-pnom` et que le dossier de travail actuel est le dossier `~`, c'est-à-dire votre dossier personnel `/home/jupyter-pnom`.\n",
    "\n",
    "Ce texte `jupyter-pnom@jupyterhub:~$` s'appelle un prompt, c'est-à-dire une invitation à entrer une commande système.\n",
    "\n",
    "Le programme qui interprète les commandes système est appelé shell.\n",
    "\n",
    "Les commandes système ont la forme suivante :\n",
    "\n",
    "`jupyter-pnom@jupyterhub:~$ nom_de_la_commande -options parametres`\n",
    "\n",
    "Les commandes s'écrivent donc dans un terminal après une invite, mais, on peut également les écrire dans et les exécuter depuis une cellule de code d'un notebook jupyter.\n",
    "\n",
    "Voici quelques commmandes de base à essayer dans un terminal ou dans un bloc-note mais dans ce cas il est préférable de les faire précéder d'un `!`..."
   ]
  },
  {
   "cell_type": "markdown",
   "metadata": {},
   "source": [
    "***\n",
    "### Pratique à connaître :\n",
    ">**auto-complétion** : après avoir tapé 2 ou 3 caractères, il est possible d'appuyer sur la touche tab qui permet d'ajouter la suite de la commande, du nom du répertoire ou du fichier. Cela évite les erreurs de frappe et est très appréciable pour éviter de saisir le nom de fichier parfois long et complexe comme le nom de certain paquet. Peut être utilisé plusieurs fois si plusieurs noms ont une partie commune. Attention, c'est sensible à la casse !\n",
    "\n",
    ">**historique de commande** : les flèches haut et bas permettent de rappeler des anciennes commandes.\n",
    "***"
   ]
  },
  {
   "cell_type": "markdown",
   "metadata": {},
   "source": [
    "### Mon pense-bête pour la ligne de commande :\n",
    "A mesure que vous explorez ce bloc-note et que vous pratiquez la ligne de commande, compléter le tableau suivant pour établir votre synthèse des principales instructions à retenir :\n",
    "\n",
    "|  **Commande**  |  **Option** |  **Paramètre** |  **Action**                     |\n",
    "|:--------------:|:-----------:|:--------------:|:-------------------------------:|\n",
    "| mkdir            |     ...     |       ...      | ...                             |\n",
    "| ...            |     ...     |       ...      | ...                             |"
   ]
  },
  {
   "cell_type": "markdown",
   "metadata": {},
   "source": [
    "### Créer un dossier :"
   ]
  },
  {
   "cell_type": "code",
   "execution_count": null,
   "metadata": {},
   "outputs": [],
   "source": [
    "mkdir monDossier"
   ]
  },
  {
   "cell_type": "markdown",
   "metadata": {},
   "source": [
    "### Créer un fichier vide au format markdown :"
   ]
  },
  {
   "cell_type": "code",
   "execution_count": null,
   "metadata": {},
   "outputs": [],
   "source": [
    "touch monFichierMarkdown.md # ajouter un ! devant la commande pour une utilisation dans une cellule code d'un notebook"
   ]
  },
  {
   "cell_type": "markdown",
   "metadata": {},
   "source": [
    "### Créer un fichier au format texte en y intégrant du contenu :"
   ]
  },
  {
   "cell_type": "code",
   "execution_count": null,
   "metadata": {},
   "outputs": [],
   "source": [
    "echo \"Salut le monde\">monFichierTexte.txt # ajouter un ! devant la commande pour une utilisation dans une cellule code d'un notebook"
   ]
  },
  {
   "cell_type": "markdown",
   "metadata": {},
   "source": [
    "### Afficher le contenu d'un fichier :"
   ]
  },
  {
   "cell_type": "code",
   "execution_count": null,
   "metadata": {},
   "outputs": [],
   "source": [
    "cat monFichierTexte.txt"
   ]
  },
  {
   "cell_type": "markdown",
   "metadata": {},
   "source": [
    "La commande suivante n'est à saisir que dans un terminal (dans un bloc-note elle fait planter le noyau). La touche `Q` permet de sortir et revenir au prompt `$`."
   ]
  },
  {
   "cell_type": "code",
   "execution_count": null,
   "metadata": {},
   "outputs": [],
   "source": [
    "less monFichierTexte.txt # touche \"Q\" pour quitter"
   ]
  },
  {
   "cell_type": "markdown",
   "metadata": {},
   "source": [
    "### Afficher le dossier courant :"
   ]
  },
  {
   "cell_type": "code",
   "execution_count": null,
   "metadata": {},
   "outputs": [],
   "source": [
    "pwd"
   ]
  },
  {
   "cell_type": "markdown",
   "metadata": {},
   "source": [
    "### Déplacer un fichier, un dossier :"
   ]
  },
  {
   "cell_type": "code",
   "execution_count": null,
   "metadata": {},
   "outputs": [],
   "source": [
    "mv monFichierTexte.txt /home/jupyter-pnom/monDossier/ #Remplacer \"pnom\" par votre nom d'utilisateur"
   ]
  },
  {
   "cell_type": "markdown",
   "metadata": {},
   "source": [
    "### Copier dans un autre dossier :"
   ]
  },
  {
   "cell_type": "code",
   "execution_count": null,
   "metadata": {},
   "outputs": [],
   "source": [
    "cp monFichierMarkdown.md ~/monDossier/"
   ]
  },
  {
   "cell_type": "markdown",
   "metadata": {},
   "source": [
    "### Changer de dossier courant :"
   ]
  },
  {
   "cell_type": "code",
   "execution_count": null,
   "metadata": {},
   "outputs": [],
   "source": [
    "cd monDossier"
   ]
  },
  {
   "cell_type": "markdown",
   "metadata": {},
   "source": [
    "### Copier et renommer un fichier :"
   ]
  },
  {
   "cell_type": "code",
   "execution_count": null,
   "metadata": {},
   "outputs": [],
   "source": [
    "cp monFichierTexte.txt monFichierTexteBis.txt"
   ]
  },
  {
   "cell_type": "markdown",
   "metadata": {},
   "source": [
    "### Lister le contenu d'un dossier"
   ]
  },
  {
   "cell_type": "code",
   "execution_count": null,
   "metadata": {},
   "outputs": [],
   "source": [
    "ls"
   ]
  },
  {
   "cell_type": "code",
   "execution_count": null,
   "metadata": {},
   "outputs": [],
   "source": [
    "ls -l"
   ]
  },
  {
   "cell_type": "code",
   "execution_count": null,
   "metadata": {},
   "outputs": [],
   "source": [
    "ls .."
   ]
  },
  {
   "cell_type": "code",
   "execution_count": null,
   "metadata": {},
   "outputs": [],
   "source": [
    "def Lister_le_contenu_de_ce_dossier():\n",
    "    liste_du_contenu = !ls\n",
    "    return liste_du_contenu\n",
    "\n",
    "Lister_le_contenu_de_ce_dossier()"
   ]
  },
  {
   "cell_type": "markdown",
   "metadata": {},
   "source": [
    "### Revenir au dossier racine"
   ]
  },
  {
   "cell_type": "code",
   "execution_count": null,
   "metadata": {},
   "outputs": [],
   "source": [
    "cd"
   ]
  },
  {
   "cell_type": "code",
   "execution_count": null,
   "metadata": {},
   "outputs": [],
   "source": [
    "ls *"
   ]
  },
  {
   "cell_type": "markdown",
   "metadata": {},
   "source": [
    "### Effacer l'affichage du  terminal"
   ]
  },
  {
   "cell_type": "code",
   "execution_count": null,
   "metadata": {},
   "outputs": [],
   "source": [
    "clear"
   ]
  },
  {
   "cell_type": "markdown",
   "metadata": {},
   "source": [
    "###  Supprimer un fichier ( ATTENTION ! C'est sans retour...)"
   ]
  },
  {
   "cell_type": "code",
   "execution_count": null,
   "metadata": {},
   "outputs": [],
   "source": [
    "rm /home/jupyter-pnom/monFichierMarkdown.md"
   ]
  },
  {
   "cell_type": "markdown",
   "metadata": {},
   "source": [
    "###  Supprimer un dossier et tout son contenu ( ATTENTION ! C'est radical et sans retour...)"
   ]
  },
  {
   "cell_type": "code",
   "execution_count": null,
   "metadata": {},
   "outputs": [],
   "source": [
    "rm -rf /home/jupyter-pnom/monDossier"
   ]
  },
  {
   "cell_type": "markdown",
   "metadata": {},
   "source": [
    "### Pour avoir de l'aide sur une commande :"
   ]
  },
  {
   "cell_type": "code",
   "execution_count": null,
   "metadata": {},
   "outputs": [],
   "source": [
    "rm --help"
   ]
  },
  {
   "cell_type": "markdown",
   "metadata": {},
   "source": [
    "#### ou"
   ]
  },
  {
   "cell_type": "code",
   "execution_count": null,
   "metadata": {},
   "outputs": [],
   "source": [
    "man rm # touche \"Q\" pour quitter"
   ]
  },
  {
   "cell_type": "markdown",
   "metadata": {},
   "source": [
    "#### ou"
   ]
  },
  {
   "cell_type": "code",
   "execution_count": null,
   "metadata": {},
   "outputs": [],
   "source": [
    "man info # touche \"Q\" pour quitter"
   ]
  },
  {
   "cell_type": "markdown",
   "metadata": {},
   "source": [
    "### Télécharger un fichier disponible sur internet :"
   ]
  },
  {
   "cell_type": "code",
   "execution_count": null,
   "metadata": {},
   "outputs": [],
   "source": [
    "wget http://api.si.lycee.ecmorlaix.fr/APprentissageHtmlCss/zip/hyperliens.zip"
   ]
  },
  {
   "cell_type": "markdown",
   "metadata": {},
   "source": [
    "### Dézipper un fichier :"
   ]
  },
  {
   "cell_type": "code",
   "execution_count": null,
   "metadata": {},
   "outputs": [],
   "source": [
    "unzip hyperliens.zip"
   ]
  },
  {
   "cell_type": "markdown",
   "metadata": {},
   "source": [
    "### Récupérer le contenu d'un dépot GitHub :"
   ]
  },
  {
   "cell_type": "code",
   "execution_count": null,
   "metadata": {},
   "outputs": [],
   "source": [
    "gitpuller https://github.com/ericECmorlaix/2_SI-CIT master 2_SI-CIT"
   ]
  },
  {
   "cell_type": "markdown",
   "metadata": {},
   "source": [
    "### Zipper des fichiers :"
   ]
  },
  {
   "cell_type": "code",
   "execution_count": null,
   "metadata": {},
   "outputs": [],
   "source": [
    "zip -r test.zip 2_SI-CIT"
   ]
  },
  {
   "cell_type": "markdown",
   "metadata": {},
   "source": [
    "### Rechercher :"
   ]
  },
  {
   "cell_type": "markdown",
   "metadata": {},
   "source": [
    "***\n",
    ">Pour de nombreuses commandes, il est souvent utile de faire appel à des méta-caractères :\n",
    "- Il y a évidemment le caractère `*` qui remplace un ou plusieurs caractères (ou même aucun !) ;\n",
    "- Il y a aussi `?` pour ne remplacer qu'un caractère ;\n",
    "- Si vous avez besoin d'un caractère qui est aussi un méta-caractère, utilisez `\\` (anti-slash) devant. Cela évite au caractère d' être interprété par le shell. Il l'affiche seulement.\n",
    "***"
   ]
  },
  {
   "cell_type": "code",
   "execution_count": null,
   "metadata": {},
   "outputs": [],
   "source": [
    "find */*.ipynb"
   ]
  },
  {
   "cell_type": "markdown",
   "metadata": {},
   "source": [
    "## Pour aller plus loin en ligne de commande :"
   ]
  },
  {
   "cell_type": "markdown",
   "metadata": {},
   "source": [
    "- https://doc.ubuntu-fr.org/tutoriel/console_ligne_de_commande\n",
    "\n",
    "- https://doc.ubuntu-fr.org/commande_shell\n",
    "\n",
    "- http://www.jetestelinux.com/le-terminal-linux-pour-debutants\n",
    "\n",
    "- Une application sympathique à faire sur une Raspberry Pi : https://projects.raspberrypi.org/en/projects/pacman-terminal"
   ]
  },
  {
   "cell_type": "markdown",
   "metadata": {},
   "source": [
    "### Afficher les informations système sous Linux\n",
    "- Carte mère et Bios (en root) : ``dmidecode``\n",
    "- RAM : ``free -m``\n",
    "- Processeur : ``lscpu - cat /proc/cpuinfo``\n",
    "- Carte graphique : ``lspci | grep VGA``\n",
    "- Liste des périphériques du bus PCI : ``lspci``\n",
    "- Liste des périphériques USB : ``lsusb``\n",
    "- Liste des périphériques de communication série par USB : ``dmesg | grep ttyACM``\n",
    "- Interfaces réseau : ``ifconfig``\n",
    "- Espace disque et pourcentage d'occupation : ``df -h``\n",
    "- Partition swap : ``swapon -s``\n",
    "- Machine (noyau, nom de machine...) : ``uname -a``\n",
    "- Informations de fonctionnement : ``uptime, top, ps, who, vmstat ``\n",
    "- Pour ceux qui veulent aller encore plus loin, essayer la commande ``lshw``"
   ]
  },
  {
   "cell_type": "code",
   "execution_count": null,
   "metadata": {},
   "outputs": [],
   "source": []
  }
 ],
 "metadata": {
  "kernelspec": {
   "display_name": "Python 3",
   "language": "python",
   "name": "python3"
  },
  "language_info": {
   "codemirror_mode": {
    "name": "ipython",
    "version": 3
   },
   "file_extension": ".py",
   "mimetype": "text/x-python",
   "name": "python",
   "nbconvert_exporter": "python",
   "pygments_lexer": "ipython3",
   "version": "3.7.3"
  },
  "toc": {
   "base_numbering": 1,
   "nav_menu": {},
   "number_sections": true,
   "sideBar": true,
   "skip_h1_title": false,
   "title_cell": "Table of Contents",
   "title_sidebar": "Contents",
   "toc_cell": false,
   "toc_position": {},
   "toc_section_display": true,
   "toc_window_display": false
  },
  "varInspector": {
   "cols": {
    "lenName": 16,
    "lenType": 16,
    "lenVar": 40
   },
   "kernels_config": {
    "python": {
     "delete_cmd_postfix": "",
     "delete_cmd_prefix": "del ",
     "library": "var_list.py",
     "varRefreshCmd": "print(var_dic_list())"
    },
    "r": {
     "delete_cmd_postfix": ") ",
     "delete_cmd_prefix": "rm(",
     "library": "var_list.r",
     "varRefreshCmd": "cat(var_dic_list()) "
    }
   },
   "types_to_exclude": [
    "module",
    "function",
    "builtin_function_or_method",
    "instance",
    "_Feature"
   ],
   "window_display": false
  }
 },
 "nbformat": 4,
 "nbformat_minor": 2
}
