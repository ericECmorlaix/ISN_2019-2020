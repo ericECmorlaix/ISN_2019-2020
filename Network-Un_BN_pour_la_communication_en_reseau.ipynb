{
 "cells": [
  {
   "cell_type": "markdown",
   "metadata": {},
   "source": [
    "# Un Bloc Note pour expérimenter la communication en réseau :\n",
    "\n",
    "> Les réseaux informatiques font partie de notre quotidien depuis de nombreuses années. Ils sont le support\n",
    "de nombreux services (données, voix, vidéo)... Ce BN a pour objectif de vous faire découvrir le fonctionnement des réseaux (LAN / WAN) en le mettant en œuvre, en suivant le chemin (route) emprunté par l’information et en observant les échanges d’informations (traffic), et en construisant, paramétrant, et testant le fonctionnement d'un réseau local LAN...\n",
    "\n",
    "> Mais tout d'abord **félicitations** d'être déjà parvenu à ouvrir ce notebook...\n",
    "\n",
    "> Ce document est un notebook jupyter, pour bien vous familiariser avec cet environnement regardez cette rapide [Introduction](Introduction-Le_BN_pour_explorer.ipynb).  \n",
    "---"
   ]
  },
  {
   "cell_type": "markdown",
   "metadata": {},
   "source": [
    "# Le réseau du lycée :\n",
    "Les PC du Labo de SI, comme tous ceux du lycée sont connectés en réseau :\n",
    "<img src=\"https://ericecmorlaix.github.io/img/Reseau.png\" width=\"50%\" >\n",
    "<center><figcaption>Illustration très simplifiée du réseau du lycée.</figcaption></center>\n",
    "\n",
    "### Relever les paramètres du réseau :\n",
    "\n",
    "Depuis un PC sous Windows10 saisir `cmd` dans cortana pour démarrer une invite de commandes et taper `ipconfig`.\n",
    "\n",
    "Quel est l'état des connexions (connecté/déconnecté) ?"
   ]
  },
  {
   "cell_type": "raw",
   "metadata": {},
   "source": []
  },
  {
   "cell_type": "markdown",
   "metadata": {},
   "source": [
    "Taper `ipconfig/all`. Quelle est la différence avec la commande précédente ?"
   ]
  },
  {
   "cell_type": "raw",
   "metadata": {},
   "source": []
  },
  {
   "cell_type": "markdown",
   "metadata": {},
   "source": [
    "Relever les paramètres IPV4 de la carte réseau de votre PC :"
   ]
  },
  {
   "cell_type": "raw",
   "metadata": {},
   "source": [
    "- Description :\n",
    "- Adresse Physique : \n",
    "- Configuration \t:\tautomatique  /  manuelle\t\t\t(rayer la mention inutile)\n",
    "- Adresse IP :\n",
    "- Masque :\n",
    "- Passerelle :\n",
    "- Serveur(s) DNS :\n",
    "- Serveur DHCP :\n",
    "- Durée de validité des paramètres IP (durée du bail) :"
   ]
  },
  {
   "cell_type": "markdown",
   "metadata": {},
   "source": [
    "En trois mots, qu’est-ce qu’une adresse MAC ?"
   ]
  },
  {
   "cell_type": "raw",
   "metadata": {},
   "source": []
  },
  {
   "cell_type": "markdown",
   "metadata": {},
   "source": [
    "En trois mots, qu’est-ce qu’un serveur DNS ?"
   ]
  },
  {
   "cell_type": "raw",
   "metadata": {},
   "source": []
  },
  {
   "cell_type": "markdown",
   "metadata": {},
   "source": [
    "Qu’est-ce qu’un serveur DHCP ?"
   ]
  },
  {
   "cell_type": "raw",
   "metadata": {},
   "source": []
  },
  {
   "cell_type": "markdown",
   "metadata": {},
   "source": [
    "Débrancher le câble Ethernet du PC, puis refaire un `ipconfig/all`. Quelle est la différence avec précédemment ?"
   ]
  },
  {
   "cell_type": "raw",
   "metadata": {},
   "source": []
  },
  {
   "cell_type": "markdown",
   "metadata": {},
   "source": [
    "Reconnecter, et recommencer. Quelle est la différence avec précédemment ?"
   ]
  },
  {
   "cell_type": "raw",
   "metadata": {},
   "source": []
  },
  {
   "cell_type": "markdown",
   "metadata": {},
   "source": [
    "Taper `ipconfig/release`. Quelle est l’action de cette commande ?"
   ]
  },
  {
   "cell_type": "raw",
   "metadata": {},
   "source": []
  },
  {
   "cell_type": "markdown",
   "metadata": {},
   "source": [
    "Taper `ipconfig/renew`. Quelle est l’action de cette commande. Qu’est-ce-qui a changé par rapport à\n",
    "la question précédente ?"
   ]
  },
  {
   "cell_type": "raw",
   "metadata": {},
   "source": []
  },
  {
   "cell_type": "markdown",
   "metadata": {},
   "source": [
    "Taper `ipconfig/?` pour vérifier vos réponses..."
   ]
  },
  {
   "cell_type": "markdown",
   "metadata": {},
   "source": [
    "### Test de communication :\n",
    "\n",
    "L’outil couramment utilisé pour tester la communication entre les machines s’appelle `ping`. Par exemple, la commande `ping 192.168.1.99` permet de vérifier que votre PC communique avec le poste `192.168.1.99`. \n",
    "\n",
    "Tester la communication avec le poste de votre voisin (indiquer la commande et le résultat obtenu). La communication est-elle établie ? Si non, désactiver temporairement le pare-feu (ou régler ces paramètres avancés ICMP pour autoriser une requête d’écho entrante). Qui répond ?"
   ]
  },
  {
   "cell_type": "raw",
   "metadata": {},
   "source": []
  },
  {
   "cell_type": "markdown",
   "metadata": {},
   "source": [
    "Tester la communication avec la passerelle (indiquer la commande et le résultat obtenu). La communication est-elle établie ? Qui répond ?"
   ]
  },
  {
   "cell_type": "raw",
   "metadata": {},
   "source": []
  },
  {
   "cell_type": "markdown",
   "metadata": {},
   "source": [
    "Tester la communication avec le 192.168.1.0 (indiquer la commande et le résultat obtenu). La communication est-elle établie ? Qui répond ?"
   ]
  },
  {
   "cell_type": "raw",
   "metadata": {},
   "source": []
  },
  {
   "cell_type": "markdown",
   "metadata": {},
   "source": [
    "Tester la communication avec le site www.google.fr  (indiquer la commande et le résultat obtenu). La communication est-elle établie ? Qui répond ?"
   ]
  },
  {
   "cell_type": "raw",
   "metadata": {},
   "source": []
  },
  {
   "cell_type": "markdown",
   "metadata": {},
   "source": [
    "Alors saisir l'IP de la réponse dans la barre d'URL de votre navigateur..."
   ]
  },
  {
   "cell_type": "markdown",
   "metadata": {},
   "source": [
    "Essayer aussi avec l'instruction `nslookup www.google.fr`"
   ]
  },
  {
   "cell_type": "markdown",
   "metadata": {},
   "source": [
    "Essayer maintenant l'instruction `tracert www.google.fr`\n",
    "\n",
    "Faire de même avec www.ecmorlaix.fr"
   ]
  },
  {
   "cell_type": "markdown",
   "metadata": {},
   "source": [
    "### Python et le réseau :\n",
    "Pour aller plus loin, il existe différentes bibliothèques Python pour programmer avec le réseau :\n",
    "- à commencer par la bibliothèque générique `os` :"
   ]
  },
  {
   "cell_type": "code",
   "execution_count": null,
   "metadata": {},
   "outputs": [],
   "source": [
    "import os\n",
    "print(os.system('ipconfig')) "
   ]
  },
  {
   "cell_type": "markdown",
   "metadata": {},
   "source": [
    "- et des bibliothèques plus spécifiques comme `socket` ou `scapy` :"
   ]
  },
  {
   "cell_type": "code",
   "execution_count": null,
   "metadata": {},
   "outputs": [],
   "source": [
    "import socket\n",
    "\n",
    "addr1 = socket.gethostbyname('google.com')\n",
    "addr2 = socket.gethostbyname('ecmorlaix.fr')\n",
    "\n",
    "print(addr1, addr2)"
   ]
  },
  {
   "cell_type": "code",
   "execution_count": null,
   "metadata": {},
   "outputs": [],
   "source": [
    "import socket\n",
    "print(socket.gethostbyname(socket.gethostname()))"
   ]
  },
  {
   "cell_type": "code",
   "execution_count": null,
   "metadata": {},
   "outputs": [],
   "source": [
    "import socket\n",
    "def IP():\n",
    "    s = socket.socket(socket.AF_INET, socket.SOCK_DGRAM)\n",
    "    s.connect(('google.com', 0))\n",
    "    return s.getsockname()[0]\n",
    " \n",
    "monIP = IP()\n",
    "print(monIP)"
   ]
  },
  {
   "cell_type": "markdown",
   "metadata": {},
   "source": [
    "- ce qui ouvre sur autant de pistes de projets :\n",
    "    - https://openclassrooms.com/fr/courses/235344-apprenez-a-programmer-en-python/234698-le-reseau\n",
    "    - http://apprendre-python.com/page-reseaux-sockets-python-port\n",
    "    - http://www.stashofcode.fr/traceroute-roots-en-python-avec-scapy/\n",
    "    - https://openclassrooms.com/fr/courses/1291886-manipulez-les-paquets-reseau-avec-scapy\n",
    "    - https://python.developpez.com/cours/TutoSwinnen/?page=page_20\n",
    "    "
   ]
  },
  {
   "cell_type": "markdown",
   "metadata": {},
   "source": [
    "# Réseau local :\n",
    "\n",
    "### Entre 2 PC :\n",
    "Dans ce premier montage, vous allez connecter vos ordinateurs directement en utilisant un simple câble Ethernet.\n",
    "<img src=\"https://ericecmorlaix.github.io/img/2PC.png\" width=\"50%\" >\n",
    "\n",
    "Les ordinateurs auront-ils accès à Internet? Justifier :\n",
    "\n",
    "...\n",
    "\n",
    "Effectuer le montage et configurer la carte réseau en adressage automatique. Attendre 30 secondes, puis relever l'adresse IP de vos ordinateurs et vérifier la connexion par un `ping`.\n",
    "\n",
    "Qu'est-ce qu'une adresse APIPA ?\n",
    "\n",
    "...\n",
    "\n",
    "Quel autre type d'adresse aurait-on pu configurer ?\n",
    "\n",
    "...\n",
    "\n",
    "Qu'est-ce qu'un cable croisé ?\n",
    "\n",
    "...\n",
    "\n",
    "Qu'est-ce que la fonction Auto MDIX ?\n",
    "\n",
    "...\n",
    "\n",
    "### LAN, Local Area Network :\n",
    "L'objectif maintenant est d'établir un réseau LAN entre 2 PC avec un switch ou un routeur puis d'y intégrer un Raspberry Pi afin de s'y connecter à distance. Il sera alors possible d'utiliser les différents services qui y sont installés ou d'y créer de nouveaux...\n",
    "<img src=\"https://ericecmorlaix.github.io/img/LAN.png\" width=\"75%\" >\n",
    "\n",
    "Effectuer le montage et configurer la carte réseau en adressage automatique. Attendre 30 secondes, puis relever l'adresse IP de vos appareils et vérifier la connexion par un `ping`...\n",
    "\n",
    "##### SSH, Secure Shell :\n",
    "A partir de Cortana, rechercher et lancer l'application de bureau PuTTY. Choisir une connection de type [SSH](https://fr.wikipedia.org/wiki/Secure_Shell), saisir l'adresse IP de votre Raspberry Pi puis cliquer sur le bouton `Open` pour ouvrir la connection et établir la communication entre le PC et l'appareil distant.\n",
    "<img src=\"https://ericecmorlaix.github.io/img/W10-PuTTY-SSH.png\" width=\"40%\" >\n",
    "Dans la fenêtre de terminal qui s'ouvre, saisir `Python3`, les trois chevrons `>>>` d'un interpréteur python doivent apparaitre. Tester le bon fonctionnement avec quelques instructions...\n",
    "\n",
    "Puis faire `Ctrl+D` pour  quitter et revenir au prompt, saisir `pinout` pour visualiser l'organisation du [GPIO](https://fr.wikipedia.org/wiki/General_Purpose_Input/Output)...\n",
    "\n",
    "Est-il possible de s'y connecter à plusieurs ?\n",
    "\n",
    "##### VNC, Virtual Network Computing :\n",
    "Dans les préférences de configuration du Raspberry Pi activer l'interface serveur [VNC](https://fr.wikipedia.org/wiki/Virtual_Network_Computing).\n",
    "Si ce n'est pas déjà fait, installer [Real VNC viewer](https://www.realvnc.com/en/connect/download/viewer/) sur votre PC.\n",
    "A partir de Cortana, rechercher et lancer l'application de bureau VNC Viewer. Faire `Fichier>Nouvelle connexion` et saisir l'adresse IP du Raspberry Pi...\n",
    "\n",
    "Depuis votre PC, dans la fenêtre graphique qui s'ouvre, démarrer un terminal sur le Raspberry Pi, saisir `Python3`, les trois chevrons `>>>` d'un interpréteur python doivent apparaitre. Tester le bon fonctionnement avec quelques instructions...\n",
    "\n",
    "Puis faire `Ctrl+D` pour  quitter et revenir au prompt, saisir `jupyter notebook` pour démarrer l'application jupyter sur le Raspberry Pi et la piloter depuis votre PC...\n",
    "\n",
    "Est-il possible de s'y connecter à plusieurs ?\n",
    "\n",
    "Si ce n'est pas déjà fait, dans les préférences de configuration du Raspberry Pi activer l'interface `Remote GPIO`\n",
    "Connecter alors une breadboard de base à votre Raspberry Pi et piloter son [GPIO](https://fr.wikipedia.org/wiki/General_Purpose_Input/Output) avec, par exemple, cette suite d'instructions :"
   ]
  },
  {
   "cell_type": "code",
   "execution_count": null,
   "metadata": {},
   "outputs": [],
   "source": [
    "from gpiozero import LED"
   ]
  },
  {
   "cell_type": "code",
   "execution_count": null,
   "metadata": {},
   "outputs": [],
   "source": [
    "maLED = LED(17)"
   ]
  },
  {
   "cell_type": "code",
   "execution_count": null,
   "metadata": {},
   "outputs": [],
   "source": [
    "maLED.on()"
   ]
  },
  {
   "cell_type": "code",
   "execution_count": null,
   "metadata": {},
   "outputs": [],
   "source": [
    "maLED.off()"
   ]
  },
  {
   "cell_type": "code",
   "execution_count": null,
   "metadata": {},
   "outputs": [],
   "source": [
    "from gpiozero import Button"
   ]
  },
  {
   "cell_type": "code",
   "execution_count": null,
   "metadata": {},
   "outputs": [],
   "source": [
    "monBoutton = Button(4)"
   ]
  },
  {
   "cell_type": "code",
   "execution_count": null,
   "metadata": {},
   "outputs": [],
   "source": [
    "not monBoutton.is_pressed"
   ]
  },
  {
   "cell_type": "code",
   "execution_count": null,
   "metadata": {},
   "outputs": [],
   "source": [
    "from time import sleep"
   ]
  },
  {
   "cell_type": "code",
   "execution_count": null,
   "metadata": {},
   "outputs": [],
   "source": [
    "while True:\n",
    "    print(\"Bonjour\")\n",
    "    maLED.on()\n",
    "    sleep(1)\n",
    "    maLED.off()\n",
    "    sleep(1)\n",
    "    if (not monBoutton.is_pressed):\n",
    "        print(\"Kenavo\")\n",
    "        break"
   ]
  },
  {
   "cell_type": "markdown",
   "metadata": {},
   "source": [
    "Pour aller plus loin avec le GPIO : https://gpiozero.readthedocs.io/en/stable/index.html\n",
    "\n",
    "##### Serveur : Jupyterhub\n",
    "Si ce n'est pas déjà fait, installer un serveur [TLJH](https://the-littlest-jupyterhub.readthedocs.io/en/latest/) sur votre Raspberry Pi et vous y connecter..."
   ]
  },
  {
   "cell_type": "markdown",
   "metadata": {
    "slideshow": {
     "slide_type": ""
    }
   },
   "source": [
    "\n",
    " # Ressources :\n",
    "\n",
    "\n",
    "- https://www.lossendiere.com/2016/12/31/comprendre-le-fonctionnement-dun-reseau-informatique/\n",
    "\n",
    "\n",
    " \n",
    "\n",
    "\n"
   ]
  },
  {
   "cell_type": "code",
   "execution_count": null,
   "metadata": {},
   "outputs": [],
   "source": []
  }
 ],
 "metadata": {
  "anaconda-cloud": {},
  "kernelspec": {
   "display_name": "Python 3",
   "language": "python",
   "name": "python3"
  },
  "language_info": {
   "codemirror_mode": {
    "name": "ipython",
    "version": 3
   },
   "file_extension": ".py",
   "mimetype": "text/x-python",
   "name": "python",
   "nbconvert_exporter": "python",
   "pygments_lexer": "ipython3",
   "version": "3.7.3"
  },
  "toc": {
   "base_numbering": 1,
   "nav_menu": {},
   "number_sections": true,
   "sideBar": true,
   "skip_h1_title": false,
   "title_cell": "Table of Contents",
   "title_sidebar": "Contents",
   "toc_cell": false,
   "toc_position": {},
   "toc_section_display": true,
   "toc_window_display": false
  },
  "varInspector": {
   "cols": {
    "lenName": 16,
    "lenType": 16,
    "lenVar": 40
   },
   "kernels_config": {
    "python": {
     "delete_cmd_postfix": "",
     "delete_cmd_prefix": "del ",
     "library": "var_list.py",
     "varRefreshCmd": "print(var_dic_list())"
    },
    "r": {
     "delete_cmd_postfix": ") ",
     "delete_cmd_prefix": "rm(",
     "library": "var_list.r",
     "varRefreshCmd": "cat(var_dic_list()) "
    }
   },
   "types_to_exclude": [
    "module",
    "function",
    "builtin_function_or_method",
    "instance",
    "_Feature"
   ],
   "window_display": false
  }
 },
 "nbformat": 4,
 "nbformat_minor": 2
}
