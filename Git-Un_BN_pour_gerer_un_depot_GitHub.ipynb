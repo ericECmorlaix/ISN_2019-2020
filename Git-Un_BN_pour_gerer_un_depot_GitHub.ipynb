{
 "cells": [
  {
   "cell_type": "markdown",
   "metadata": {},
   "source": [
    "# Le Bloc Note pour gérer vos dépots GitHub\n",
    "> Cet exercice a pour objectif de vous accompagner dans la création d'un compte [GitHub](https://github.com/) et pour sa gestion en ligne de commande depuis votre navigateur via un interpréteur interactif **jupyter** en mode **Notebook** fonctionnant, par exemple, sur le serveur http://jupyterhub.ecmorlaix.bzh:8092.\n",
    "\n",
    "> Mais tout d'abord **félicitations** d'être déjà parvenu à ouvrir ce notebook, bientôt l'instruction `git` n'aura *\"presque\"* plus de secret pour vous, et les verbes \"tirer\", \"commettre\", \"fusionner\" et \"pousser\", trouveront un nouveau sens !\n",
    "\n",
    "> Ce document est un notebook jupyter, pour bien vous familiariser avec cet environnement regardez cette rapide [Introduction](Introduction-Le_BN_pour_explorer.ipynb).  \n",
    "\n",
    "---"
   ]
  },
  {
   "cell_type": "markdown",
   "metadata": {},
   "source": [
    "## Mise en situation :\n",
    "\n",
    "GitHub en lui-même n’est rien de plus qu’un réseau social comme Facebook ou Flickr. Vous construisez un profil, vous y déposez des projets à partager et vous vous connectez avec d’autres utilisateurs en suivant leurs comptes. Même si la plupart des utilisateurs y déposent des projets de programmes ou de code, rien ne vous empêche d’y placer des textes ou tout type de fichier à présenter dans vos répertoires de projets.\n",
    "\n",
    "**GitHub** est basé sur **Git**, une création de [Linus Torwald](https://fr.wikipedia.org/wiki/Linus_Torvalds) qui est l'inventeur du [noyau Linux](https://fr.wikipedia.org/wiki/Noyau_Linux). Il en est arrivé à créer [Git](https://fr.wikipedia.org/wiki/Git) pour justement pouvoir gérer le développement du projet Linux...\n",
    "\n",
    "Git est un logiciel de contrôle de version, ce qui signifie qu’il gère les modifications d’un projet sans écraser n’importe quelle partie du projet.\n",
    "\n",
    "Pourquoi utiliser quelque chose comme Git ? Supposons que vous mettiez à jour avec un collègue des pages sur le même site web. Vous faites des modifications, vous les sauvegardez et les versez sur le site. À ce stade, tout va bien. Le problème survient quand votre collègue travaille sur la même page que vous en même temps. L’un de vous va voir son travail écrasé.\n",
    "\n",
    "Une application de contrôle de version comme Git empêche ça d’arriver. Vous et votre collègue pouvez chacun de votre côté verser vos révisions sur la même page, et Git sauvegardera deux copies. Plus tard, vous pourrez fusionner vos modifications sans perdre le travail dans le processus. Vous pouvez même revenir en arrière à tout moment, parce que Git conserve une « copie instantanée » de tous les changements produits.\n",
    "\n",
    "Créer un compte sur GitHub.com apporte les contrôles de versions à vos projets web, et leur confère des fonctionnalités de réseaux sociaux. Vous pouvez parcourir les projets d’autres utilisateurs de Github, et même y télécharger des copies pour vous-même afin de les modifier, apprendre ou les enrichir. D’autres utilisateurs peuvent faire la même chose avec vos projets publics, repérer vos erreurs et suggérer des corrections. De toute façon, aucune donnée ne se perd parce que Git enregistre un “instantané” de chaque modification.\n",
    "\n",
    "source : https://www.christopheducamp.com/2013/12/15/github-pour-nuls-partie-1/\n",
    "et https://www.christopheducamp.com/2013/12/16/github-pour-nuls-partie-2/"
   ]
  },
  {
   "cell_type": "markdown",
   "metadata": {},
   "source": [
    "# Besoin n°1 :\n",
    "*J'ai un dossier de travail sur mon espace du serveur jupyterhub du lycée dont je veux faire une copie public sur GitHub pour pouvoir ensuite maintenir à jour son développement soit depuis l'interface graphique de GitHub en ligne soit depuis l'environnement interactif **jupyter** en mode **Notebook**...*\n",
    "\n",
    "## Créer un dépot GitHub :\n",
    "Créer un compte sur GitHub (Sign up) depuis un navigateur à l'adresse https://github.com/, ou identifier vous (Sign in) si vous avez déjà un compte.\n",
    "\n",
    "<img src=\"https://ericecmorlaix.github.io/img/GitHub00.png\" alt=\"inscription GitHub\" width=30%>\n",
    "\n",
    "A l'adresse https://github.com/new créer un nouveau répertoire de dépot nommé comme votre dossier de travail sur le serveur ou par exemple `pNomRepo` :\n",
    "\n",
    "<img src=\"https://ericecmorlaix.github.io/img/GitHub01.png\" alt=\"nouveau repo GitHub\" width=50%>\n",
    "\n",
    "Cocher la case \"Initialize this repository with a README\" puis cliquer sur le bouton \"Create repository\".\n",
    "\n",
    "Voilà, vous faites maintenant parti d'un autre réseau social mondial celui des développeur de code...\n",
    "\n",
    "> Remarquer que le fichier `Readme` à pour extension `.md` pour **Mardown** si vous ne connaissez pas ce langage de description rudimentaire rendez-vous sur le bloc-note [Markdown](MarkDown-Le_BN_pour_rapporter.ipynb).\n",
    "\n",
    "Il est possible de gérer un compte GitHub via son interface graphique depuis un navigateur ou sur un ordinateur personnel ou une tablette en y installant l'application GitHub Desktop adaptée.\n",
    "Pour vous intitier plus complètement dans ce sens https://guides.github.com/activities/hello-world/.\n",
    "\n",
    "Mais les ordinateurs du lycée ne sont pas personnel et sur le serveur http://jupyterhub.ecmorlaix.bzh:8092 il n'y a pas d'interface graphique. Il nous faut donc recourir *\"aux supers pouvoirs\"* de **la ligne de commande**..."
   ]
  },
  {
   "cell_type": "markdown",
   "metadata": {},
   "source": [
    "## Gérer en ligne de commande"
   ]
  },
  {
   "cell_type": "markdown",
   "metadata": {},
   "source": [
    "> En apprenant à piloter vos dépôts GitHub en ligne de commande, vous comprendrez alors le processus de la [gestion de version](https://fr.wikipedia.org/wiki/Logiciel_de_gestion_de_versions) [décentralisée](https://fr.wikipedia.org/wiki/Gestion_de_versions#Gestion_de_versions_d.C3.A9centralis.C3.A9e) et par transposition vous serez naturellement et rapidement capable de le faire aussi depuis n'importe quelle interface graphique. L'inverse n'est pas vrai...\n",
    "\n",
    "> Les intructions suivantes sont à saisir dans un terminal. Il est cependant possible de les exécuter depuis les cellules de code de ce bloc-note mais il sera alors nécessaire d'ajouter un `!` devant certaines...\n",
    "\n",
    "***  \n",
    "> Si vous n'êtes pas encore familiarisé avec la ligne de commnande dans un environnement jupyter rendez-vous sur le bloc-note [Terminal](Terminal-Un_BN_pour_la_ligne_de_commande.ipynb).  \n",
    "\n",
    "***"
   ]
  },
  {
   "cell_type": "markdown",
   "metadata": {},
   "source": [
    "## Mon pense-bête pour git :\n",
    "A mesure que vous explorez ce bloc-note compléter la liste descriptive suivante pour établir votre synthèse des principales instructions à retenir :\n",
    "<hr>\n",
    "<dl>\n",
    "  <dt>git init</dt>\n",
    "  <dd>...</dd>\n",
    "  <hr>  \n",
    "  <dt>git ...</dt>\n",
    "  <dd>...</dd>\n",
    "</dl>\n",
    "<hr>"
   ]
  },
  {
   "cell_type": "markdown",
   "metadata": {},
   "source": [
    "## Configuration Générale :"
   ]
  },
  {
   "cell_type": "markdown",
   "metadata": {},
   "source": [
    "### Configurer un nom d'utilisateur pour l'ensemble de vos dossiers"
   ]
  },
  {
   "cell_type": "code",
   "execution_count": null,
   "metadata": {},
   "outputs": [],
   "source": [
    "git config --global user.name \"votrePseudoGitHub\""
   ]
  },
  {
   "cell_type": "markdown",
   "metadata": {},
   "source": [
    "#### Vérifier la configuration :"
   ]
  },
  {
   "cell_type": "code",
   "execution_count": null,
   "metadata": {},
   "outputs": [],
   "source": [
    "git config --global user.name"
   ]
  },
  {
   "cell_type": "markdown",
   "metadata": {},
   "source": [
    "### Configurer une adresse mail pour l'ensemble de vos dossiers"
   ]
  },
  {
   "cell_type": "code",
   "execution_count": null,
   "metadata": {},
   "outputs": [],
   "source": [
    "git config --global user.email \"prenom.nom@eleves.ecmorlaix.fr\""
   ]
  },
  {
   "cell_type": "markdown",
   "metadata": {},
   "source": [
    "#### Vérifier la configuration :"
   ]
  },
  {
   "cell_type": "code",
   "execution_count": null,
   "metadata": {},
   "outputs": [],
   "source": [
    "git config --global user.email"
   ]
  },
  {
   "cell_type": "markdown",
   "metadata": {},
   "source": [
    "### Obtenir un listing de la configuration globale"
   ]
  },
  {
   "cell_type": "code",
   "execution_count": null,
   "metadata": {},
   "outputs": [],
   "source": [
    "git config --list"
   ]
  },
  {
   "cell_type": "markdown",
   "metadata": {},
   "source": [
    "## Lier un dossier du serveur à un dépôt GitHub et récupérer son contenu  :"
   ]
  },
  {
   "cell_type": "markdown",
   "metadata": {},
   "source": [
    "### Si vous n'en avez pas, créer un dossier sur le serveur du même nom que le dépot GitHub correspondant :"
   ]
  },
  {
   "cell_type": "code",
   "execution_count": null,
   "metadata": {},
   "outputs": [],
   "source": [
    "mkdir ~/pNomRepo"
   ]
  },
  {
   "cell_type": "markdown",
   "metadata": {},
   "source": [
    "### Ce placer dans ce dossier"
   ]
  },
  {
   "cell_type": "code",
   "execution_count": null,
   "metadata": {},
   "outputs": [],
   "source": [
    "cd ~/pNomRepo"
   ]
  },
  {
   "cell_type": "markdown",
   "metadata": {},
   "source": [
    "### Initialiser ce dossier en tant que dossier git :"
   ]
  },
  {
   "cell_type": "code",
   "execution_count": null,
   "metadata": {},
   "outputs": [],
   "source": [
    "git init"
   ]
  },
  {
   "cell_type": "markdown",
   "metadata": {},
   "source": [
    "#### Vérifier la présence d'un dossier caché .git :"
   ]
  },
  {
   "cell_type": "code",
   "execution_count": null,
   "metadata": {},
   "outputs": [],
   "source": [
    "ls -a"
   ]
  },
  {
   "cell_type": "markdown",
   "metadata": {},
   "source": [
    "### Lier ce dossier à votre dépôt distant GitHub :"
   ]
  },
  {
   "cell_type": "code",
   "execution_count": null,
   "metadata": {},
   "outputs": [],
   "source": [
    "git remote add origin https://github.com/votrePseudoGitHub/pNomRepo.git"
   ]
  },
  {
   "cell_type": "markdown",
   "metadata": {},
   "source": [
    "> La commande `git remote remove ...` permet de supprimer une liaison distante."
   ]
  },
  {
   "cell_type": "markdown",
   "metadata": {},
   "source": [
    "#### Vérifier la liaison distante :"
   ]
  },
  {
   "cell_type": "code",
   "execution_count": null,
   "metadata": {},
   "outputs": [],
   "source": [
    "git remote -v"
   ]
  },
  {
   "cell_type": "markdown",
   "metadata": {},
   "source": [
    "### Récupérer les données du dépôt GitHub dans votre dossier sur le serveur = \"Tirer\""
   ]
  },
  {
   "cell_type": "code",
   "execution_count": null,
   "metadata": {},
   "outputs": [],
   "source": [
    "git pull origin master"
   ]
  },
  {
   "cell_type": "markdown",
   "metadata": {},
   "source": [
    "> `origin` est le nom de la liaison distante (remote) définit par défaut et `master` est le nom de la branche principale"
   ]
  },
  {
   "cell_type": "markdown",
   "metadata": {},
   "source": [
    "#### Vérifier la bonne récupération du fichier `Readme.md`..."
   ]
  },
  {
   "cell_type": "markdown",
   "metadata": {},
   "source": [
    "# Besoin n°2 :\n",
    "*J'ai un dépot sur mon compte GitHub dont je veux faire une copie de travail sur mon espace du serveur jupyterhub du lycée pour pouvoir ensuite maintenir à jour son développement soit depuis l'interface graphique de GitHub en ligne soit depuis l'environnement interactif **jupyter** en mode **Notebook**...*"
   ]
  },
  {
   "cell_type": "markdown",
   "metadata": {},
   "source": [
    "## Cloner un dépôt GitHub :\n",
    "### Copier dans un nouveau dossier nommé par exemple `monRepo` sur le serveur."
   ]
  },
  {
   "cell_type": "code",
   "execution_count": null,
   "metadata": {},
   "outputs": [],
   "source": [
    "git clone https://github.com/votrePseudoGitHub/pNomRepo.git monRepo"
   ]
  },
  {
   "cell_type": "markdown",
   "metadata": {},
   "source": [
    "> Si on ne précise pas le nom du dossier à la fin de l'instruction, alors c'est le nom du dépôt GitHub cloner qui est attribué par défaut au dossier auquel il sera lié.\n",
    "\n",
    "> Il faut ajouter `.git` à l'URL d'un  dépot GitHub pour le cloner."
   ]
  },
  {
   "cell_type": "markdown",
   "metadata": {},
   "source": [
    "#### Vérifier la liaison, la récupération du fichier `Readme.md` et l'état de votre copie de travail :"
   ]
  },
  {
   "cell_type": "code",
   "execution_count": null,
   "metadata": {},
   "outputs": [],
   "source": [
    "cd ~/monRepo"
   ]
  },
  {
   "cell_type": "code",
   "execution_count": null,
   "metadata": {},
   "outputs": [],
   "source": [
    "git remote -v"
   ]
  },
  {
   "cell_type": "code",
   "execution_count": null,
   "metadata": {},
   "outputs": [],
   "source": [
    "ls -a"
   ]
  },
  {
   "cell_type": "code",
   "execution_count": null,
   "metadata": {},
   "outputs": [],
   "source": [
    "git status"
   ]
  },
  {
   "cell_type": "markdown",
   "metadata": {},
   "source": [
    "# Besoin n°3 :\n",
    "*Maintenant que j'ai un dépot sur mon compte GitHub lié à une copie de travail sur mon espace du serveur jupyterhub du lycée, je souhaite maintenir à jour son développement soit depuis l'interface graphique de GitHub en ligne soit depuis l'environnement interactif **jupyter** en mode **Notebook**...*\n",
    "\n",
    "## Mettre à jour le dépôt GitHub lié avec les évolutions de votre dossier sur le serveur :"
   ]
  },
  {
   "cell_type": "markdown",
   "metadata": {},
   "source": [
    "### Créer un fichier sur le serveur :"
   ]
  },
  {
   "cell_type": "code",
   "execution_count": null,
   "metadata": {},
   "outputs": [],
   "source": [
    "echo  \"Bonjour, voici ma contibution !\">~/monRepo/bonjour.txt"
   ]
  },
  {
   "cell_type": "code",
   "execution_count": null,
   "metadata": {},
   "outputs": [],
   "source": [
    "less ~/monRepo/bonjour.txt # touche \"Q\" pour quitter"
   ]
  },
  {
   "cell_type": "code",
   "execution_count": null,
   "metadata": {},
   "outputs": [],
   "source": [
    "git status"
   ]
  },
  {
   "cell_type": "markdown",
   "metadata": {},
   "source": [
    "### Modifier un fichier depuis le serveur :\n",
    "Ouvrir le fichier README.md dans l'éditeur de texte de l'environnement jupyter ou en ligne de commande avec [Nano](https://doc.ubuntu-fr.org/nano) (ou [Vim](https://doc.ubuntu-fr.org/vim), ou [Emacs](https://doc.ubuntu-fr.org/emacs))"
   ]
  },
  {
   "cell_type": "code",
   "execution_count": null,
   "metadata": {},
   "outputs": [],
   "source": [
    "nano -w ~/monRepo/README.md"
   ]
  },
  {
   "cell_type": "markdown",
   "metadata": {},
   "source": [
    "Effectuer des modifications telles que :\n",
    "<img src=\"https://ericecmorlaix.github.io/img/Nano.png\" alt=\"nouveau repo GitHub\" width=90%>\n",
    "> Pour Nano, utiliser les touches `Ctrl+X` pour Quitter, `O` pour valider les modifications puis appuyer sur la touche `Entrée` sans changer le nom du fichier `README.md`."
   ]
  },
  {
   "cell_type": "code",
   "execution_count": null,
   "metadata": {},
   "outputs": [],
   "source": [
    "git status"
   ]
  },
  {
   "cell_type": "markdown",
   "metadata": {},
   "source": [
    "### Visualiser tous les changements réalisés à ce stade"
   ]
  },
  {
   "cell_type": "code",
   "execution_count": null,
   "metadata": {},
   "outputs": [],
   "source": [
    "git diff "
   ]
  },
  {
   "cell_type": "markdown",
   "metadata": {},
   "source": [
    "> Les suppresions apparaissent en rouge précédées d'un signe **`-`**, et les ajouts apparaissent en vert prédédés d'un signe **`+`**.\n",
    "\n",
    "> Utiliser avec la commande `git diff nomDuFichier` pour ne voir que les modifications effectuées sur un fichier "
   ]
  },
  {
   "cell_type": "markdown",
   "metadata": {},
   "source": [
    "### Ajouter les changements à mettre à jour à l'index"
   ]
  },
  {
   "cell_type": "code",
   "execution_count": null,
   "metadata": {},
   "outputs": [],
   "source": [
    "git add bonjour.txt README.md"
   ]
  },
  {
   "cell_type": "code",
   "execution_count": null,
   "metadata": {},
   "outputs": [],
   "source": [
    "git status"
   ]
  },
  {
   "cell_type": "markdown",
   "metadata": {},
   "source": [
    ">###### Remarque :\n",
    "> La commande `git add *` permet d'ajouter tous les fichiers modifiés en une fois.\n",
    "> \n",
    "> La commande `git add dossier/`permet d'ajouter un dossier et tout sont contenu.\n",
    ">\n",
    "> La commande `git reset HEAD -- nomDuFichier` permet d'enlever de l'index un fichier ajouté par erreur.\n",
    ">\n",
    "> La commande `git checkout nomDuFichier` permet d'annuler les modifications faites sur un fichier depuis l'état précédent."
   ]
  },
  {
   "cell_type": "markdown",
   "metadata": {},
   "source": [
    "### Valider et consigner vos modifications = \"Commiter\""
   ]
  },
  {
   "cell_type": "code",
   "execution_count": null,
   "metadata": {},
   "outputs": [],
   "source": [
    "git commit -m \"Ajout Bonjour\""
   ]
  },
  {
   "cell_type": "code",
   "execution_count": null,
   "metadata": {},
   "outputs": [],
   "source": [
    "git status"
   ]
  },
  {
   "cell_type": "markdown",
   "metadata": {},
   "source": [
    "> La commande `git commit -a -m \"mon message\"` permet de directement valider et consigner les modifications qui concernent tous les fichiers déjà suivis sans avoir à passer préalablement par une commande `add`.\n",
    "> \n",
    "> La commande `git commit` sans argument ouvre l'éditeur définit par défaut (Nano) pour permettre d'écrire le message de `commit`; pour sortir, faire `Ctrl+X` pour Quitter, `O` pour valider, puis `Entrée`."
   ]
  },
  {
   "cell_type": "markdown",
   "metadata": {},
   "source": [
    "### Afficher un historique des révisions successives effectués dans un dépot :"
   ]
  },
  {
   "cell_type": "code",
   "execution_count": null,
   "metadata": {},
   "outputs": [],
   "source": [
    "git log"
   ]
  },
  {
   "cell_type": "markdown",
   "metadata": {},
   "source": [
    "> Chaque révision porte un identifiant unique sur 20 octets.\n",
    "\n",
    "> Essayer aussi les commandes `git log --graph`, `git log -p`, `git log --stat` et `git log --oneline --graph --decorate`.\n",
    "\n",
    "> Ce qu'il faut comprendre lorsque l'on fait un `commit` c'est que l'on génère un point d'étape du développement d'un projet sur lequel on peut revenir ensuite à tout moment grace à son identifiant..."
   ]
  },
  {
   "cell_type": "markdown",
   "metadata": {},
   "source": [
    "### Afficher les modifications contenues dans un commit :"
   ]
  },
  {
   "cell_type": "code",
   "execution_count": null,
   "metadata": {},
   "outputs": [],
   "source": [
    "git show # affiche les modifications du dernier commit en date"
   ]
  },
  {
   "cell_type": "code",
   "execution_count": null,
   "metadata": {},
   "outputs": [],
   "source": [
    "git show identifiantDuCommit # affiche les modifications d'un commit en particulier"
   ]
  },
  {
   "cell_type": "markdown",
   "metadata": {},
   "source": [
    "> Pour l'instant cette mise à jour n'existe que dans votre dossier sur le serveur jupyter, votre copie de travail, et pas encore sur GitHub.\n",
    ">\n",
    ">Avec Git on peut encore la modifier à ce niveau là si on a fait une erreur :\n",
    "    - Annuler le dernier commit sans perdre les changements : `git reset HEAD^`\n",
    "    - Annuler votre dernier commit et les changements effectués : `git reset --hard HEAD^`    \n"
   ]
  },
  {
   "cell_type": "markdown",
   "metadata": {},
   "source": [
    "### Mettre à jour votre dépôt GitHub avec votre copie de travail = \"Pousser\" :"
   ]
  },
  {
   "cell_type": "markdown",
   "metadata": {},
   "source": [
    "> Attention, l'instruction suivante ne fonctionnera pas dans un bloc-note même avec un `!` devant. Il faut impérativement l'exécuter dans un terminal..."
   ]
  },
  {
   "cell_type": "code",
   "execution_count": null,
   "metadata": {},
   "outputs": [],
   "source": [
    "git push origin master"
   ]
  },
  {
   "cell_type": "markdown",
   "metadata": {},
   "source": [
    "Renseigner alors votre votre pseudo et votre mot de passse GitHub..."
   ]
  },
  {
   "cell_type": "markdown",
   "metadata": {},
   "source": [
    "#### Vérifier l'état de votre copie de travail :"
   ]
  },
  {
   "cell_type": "code",
   "execution_count": null,
   "metadata": {},
   "outputs": [],
   "source": [
    "git status"
   ]
  },
  {
   "cell_type": "markdown",
   "metadata": {},
   "source": [
    "#### Enfin il ne reste plus qu'à vérifier la mise à jour du contenu de votre dépot GitHub en ligne..."
   ]
  },
  {
   "cell_type": "markdown",
   "metadata": {},
   "source": [
    "> La commande `git revert identifiantDuCommit` permet de créer un `commit` inverse pour l'annuler."
   ]
  },
  {
   "cell_type": "markdown",
   "metadata": {},
   "source": [
    "## Mettre à jour le dossier lié sur le serveur avec les évolutions de votre dépôt GitHub :\n",
    "### Modifier un fichier depuis GitHub :"
   ]
  },
  {
   "cell_type": "markdown",
   "metadata": {},
   "source": [
    "Dans l’interface web de GitHub, éditer et modifier le fichier `README.md`, et commiter les changements."
   ]
  },
  {
   "cell_type": "markdown",
   "metadata": {},
   "source": [
    "### Tirer les changement dans votre copie de travail du serveur :"
   ]
  },
  {
   "cell_type": "code",
   "execution_count": null,
   "metadata": {},
   "outputs": [],
   "source": [
    "cd ~/monRepo\n",
    "git status\n",
    "git log\n",
    "git pull\n",
    "git status\n",
    "git log"
   ]
  },
  {
   "cell_type": "markdown",
   "metadata": {},
   "source": [
    "##### Modifier à nouveau le fichier `README.md` sur votre ordinateur, commitez les changements, puis poussez vos changements sur GitHub :"
   ]
  },
  {
   "cell_type": "code",
   "execution_count": null,
   "metadata": {},
   "outputs": [],
   "source": [
    "git status\n",
    "git push"
   ]
  },
  {
   "cell_type": "markdown",
   "metadata": {},
   "source": [
    "##### A ce stade, faire encore un changement à `README.md` dans l’interface de GitHub. Commiter. Mais ne tirer pas encore vers le serveur."
   ]
  },
  {
   "cell_type": "markdown",
   "metadata": {},
   "source": [
    "##### Créer un fichier `index.html` dans votre copie de travail sur le serveur contenant le code :"
   ]
  },
  {
   "cell_type": "raw",
   "metadata": {},
   "source": [
    "<!DOCTYPE html>\n",
    "<html>\n",
    "  <head>\n",
    "    <meta charset=\"utf-8\">\n",
    "    <title>Ma page web</title>\n",
    "  </head>\n",
    "  <body>\n",
    "    <h1>Ma page web bientôt hébergée par GitHub</h1>\n",
    "  </body>\n",
    "</html>"
   ]
  },
  {
   "cell_type": "markdown",
   "metadata": {},
   "source": [
    "##### Ajouter, commiter, puis essayer de pousser, que se passe-t-il ?"
   ]
  },
  {
   "cell_type": "markdown",
   "metadata": {},
   "source": [
    "##### Tirer, Valider le message proposé (`Ctrl+X`), puis lire le log avec"
   ]
  },
  {
   "cell_type": "code",
   "execution_count": null,
   "metadata": {},
   "outputs": [],
   "source": [
    "git log --graph # touche \"Q\" pour quitter"
   ]
  },
  {
   "cell_type": "markdown",
   "metadata": {},
   "source": [
    "Que s’est-il passé ? Quels sont les nouveaux mots..."
   ]
  },
  {
   "cell_type": "raw",
   "metadata": {},
   "source": [
    "..."
   ]
  },
  {
   "cell_type": "markdown",
   "metadata": {},
   "source": [
    "##### Pousser maintenant."
   ]
  },
  {
   "cell_type": "code",
   "execution_count": null,
   "metadata": {},
   "outputs": [],
   "source": []
  },
  {
   "cell_type": "markdown",
   "metadata": {},
   "source": [
    "###### Analyser le même log avec l’interface web de GitHub, à l’adresse https://github.com/votrePseudoGitHub/pNomRepo/network."
   ]
  },
  {
   "cell_type": "markdown",
   "metadata": {},
   "source": [
    "# Besoin n°4\n",
    "Nous venons d'observer qu'un dépot distant GitHub et sa copie de travail sur le serveur jupyterhub ont pu évoluer parallèlement et indépendamment l'un de l'autre tout en subissant des modifications différentes chacun selon sa propre voie. Enfin, nous avons pu les fusionner pour les rendre identiques à nouveau.\n",
    "> **Remarque :**\n",
    ">Lorsque vous récupérez les nouveaux commits depuis GitHub avec  `git pull`, cela revient en fait à appeler deux commandes différentes :\n",
    "- `git fetch`, qui s’occupe du téléchargement des nouveaux commits,\n",
    "- et  `git merge`, qui fusionne les commits téléchargés issus de la branche de GitHub dans la branche du serveur jupyterhub.\n",
    "\n",
    "Ainsi, il pourrait être intéressant de disposer d'une version de développement pour essayer des choses sans affecter la version principale qui resterait alors pleinement fonctionnelle...\n",
    "\n",
    "## Développer sur des branches différentes puis les fusionner avec la branche master :\n",
    "\n",
    "Les branches sont utilisées pour développer des fonctionnalités isolées des autres. La branche master est la branche par défaut quand vous créez un dépôt. Utilisez les autres branches pour le développement et fusionnez ensuite à la branche principale quand vous avez fini.\n",
    "<img src=\"https://ericecmorlaix.github.io/img/BrancheDev.png\" alt=\"branche dev\" width=50%>\n",
    "### Voir toutes les branches"
   ]
  },
  {
   "cell_type": "code",
   "execution_count": null,
   "metadata": {},
   "outputs": [],
   "source": [
    "git branch"
   ]
  },
  {
   "cell_type": "markdown",
   "metadata": {},
   "source": [
    "> Il y a une étoile devant la branche sur laquelle vous êtes actuellement."
   ]
  },
  {
   "cell_type": "markdown",
   "metadata": {},
   "source": [
    "### Créer une branche nommée par exemple `pnom-dev`:"
   ]
  },
  {
   "cell_type": "code",
   "execution_count": null,
   "metadata": {},
   "outputs": [],
   "source": [
    "git branch pnom-dev"
   ]
  },
  {
   "cell_type": "markdown",
   "metadata": {},
   "source": [
    "### Changer de branche courante :"
   ]
  },
  {
   "cell_type": "code",
   "execution_count": null,
   "metadata": {},
   "outputs": [],
   "source": [
    "git checkout pnom-dev"
   ]
  },
  {
   "cell_type": "markdown",
   "metadata": {},
   "source": [
    "\n",
    "##### Vérifier la création et le changement de branche courante  avec un `git branch`.\n",
    "\n",
    "> Attention, si vous changez de branche sans avoir fait de `commit` alors vous perdrez toutes les modifications faites depuis le dernier `commit`à moins de faire un `git stash`au préalable... Lorsque vous reviendrez travailler sur cette branche il faudra faire un `git stash apply` pour récupérer vos plus récentes modifications réalisées depuis le dernier `commit`.\n",
    "\n",
    "##### Faire des modifications à un fichier et un commit sur la branche `pnom-dev` puis vérifier avec un `git log --graph`\n",
    "\n",
    "##### Revenir sur la branche master par un `git checkout master`\n",
    "\n",
    "### Créer une nouvelle branche nommée `autre-dev` et basculer dessus directement"
   ]
  },
  {
   "cell_type": "code",
   "execution_count": null,
   "metadata": {},
   "outputs": [],
   "source": [
    "git checkout -b autre-dev"
   ]
  },
  {
   "cell_type": "markdown",
   "metadata": {},
   "source": [
    "### Voir la liste et l'état de toutes les branches :"
   ]
  },
  {
   "cell_type": "code",
   "execution_count": null,
   "metadata": {},
   "outputs": [],
   "source": [
    "git branch -av"
   ]
  },
  {
   "cell_type": "markdown",
   "metadata": {},
   "source": [
    "> On observe que les branches `pnom-dev` et `autre-dev` ne sont pas disponibles sur le dépot GitHub.\n",
    "> une branche n'est pas disponible pour les autres tant que vous ne l'avez pas envoyée vers votre dépôt distant avec `git push origin autre-dev`\n",
    "\n",
    "##### Faire des modifications à un fichier et un `commit` sur la branche `autre-dev` et vérifier avec `git branch -av`\n",
    "\n",
    "##### Revenir sur la branche master par un `git checkout master`\n",
    "\n",
    "##### Faire alors des modifications et un commit sur la branche `master` et vérifier avec `git branch -av`\n",
    "\n",
    "##### Faire un push vers la branche principale distante et vérifier avec `git branch -av`\n",
    "\n",
    "##### Observer l'état des logs  avec un `git log --graph`"
   ]
  },
  {
   "cell_type": "markdown",
   "metadata": {},
   "source": [
    "### Fusionner une branche avec la branche principale"
   ]
  },
  {
   "cell_type": "markdown",
   "metadata": {},
   "source": [
    "> Il faut revenir sur la branche `master` pour faire un `merge` avec cette branche :"
   ]
  },
  {
   "cell_type": "code",
   "execution_count": null,
   "metadata": {},
   "outputs": [],
   "source": [
    "git merge pnom-dev"
   ]
  },
  {
   "cell_type": "markdown",
   "metadata": {},
   "source": [
    "##### Faire un `git diff pnom-dev master` pour avoir un aperçu des changements après fusion. \n",
    "> A partir de là, il y a deux possibilités :\n",
    "- Soit la fusion automatique est possible, tout va bien, et vous pouvez poursuivre ;\n",
    "- Soit la fusion automatique a échoué car il y a des conflits, vous avez alors encore deux choix :\n",
    "    - Soit vous faites machine arrière et vous renoncez à la fusion en faisant `git merge --abort` ;\n",
    "    - Soit vous éditez les fichiers en conflits et vous les corrigez manuellement en choississant la bonne version que vous enregistrer, et puis vous les marquer comme fusionnés avec un `git add nomFichierEnConflit`, enfin, vous faites un nouveau `commit`. Alors, si tout va bien, vous avez effectué un pas de géant car vous venez de résoudre votre premier conflit !"
   ]
  },
  {
   "cell_type": "markdown",
   "metadata": {},
   "source": [
    "### Supprimer une branche devenue inutile après fusion :"
   ]
  },
  {
   "cell_type": "code",
   "execution_count": null,
   "metadata": {},
   "outputs": [],
   "source": [
    "git branch -d pnom-dev"
   ]
  },
  {
   "cell_type": "markdown",
   "metadata": {},
   "source": [
    "##### Essayer de faire `git branch -d autre-dev`, quel est le problème ?"
   ]
  },
  {
   "cell_type": "markdown",
   "metadata": {},
   "source": [
    "\n",
    "### Supprimer une branche devenue inutile sans fusion :"
   ]
  },
  {
   "cell_type": "code",
   "execution_count": null,
   "metadata": {},
   "outputs": [],
   "source": [
    "git branch -D autre-dev"
   ]
  },
  {
   "cell_type": "markdown",
   "metadata": {},
   "source": [
    "> Supprimer une branche présente sur le dépôt GitHub avec `git push origin --delete nom_de_la_branche_distante`"
   ]
  },
  {
   "cell_type": "markdown",
   "metadata": {},
   "source": [
    "#### Vérifier vos fusions, suppressions, et branches sur votre copie de travail"
   ]
  },
  {
   "cell_type": "code",
   "execution_count": null,
   "metadata": {},
   "outputs": [],
   "source": [
    "git status\n",
    "git branch\n",
    "git log graph\n"
   ]
  },
  {
   "cell_type": "markdown",
   "metadata": {},
   "source": [
    "##### Pousser maintenant."
   ]
  },
  {
   "cell_type": "code",
   "execution_count": null,
   "metadata": {},
   "outputs": [],
   "source": []
  },
  {
   "cell_type": "markdown",
   "metadata": {},
   "source": [
    "###### Analyser le même log avec l’interface web de GitHub, à l’adresse https://github.com/votrePseudoGitHub/pNomRepo/network."
   ]
  },
  {
   "cell_type": "markdown",
   "metadata": {},
   "source": [
    "### Résumé visuel du workflow Git + GitHub pour gérer votre dépot via le serveur jupyterhub :\n",
    "\n",
    "..."
   ]
  },
  {
   "cell_type": "markdown",
   "metadata": {},
   "source": [
    "# Besoin n°5 : un serveur Web\n",
    "\n",
    "## Ma page Web enfin hébergée par GitHub :\n",
    "\n",
    "A l’adresse https://github.com/votrePseudoGitHub/pNomRepo/settings, renommer le repository au format `votrePseudoGitHub.github.io` puis visiter l'adresse https://votrePseudoGitHub.github.io/index.html\n",
    "\n",
    "## Transformer un dépot GitHub en serveur pour vos projets Web statiques :\n",
    "\n",
    "A la lecture des vidéos de Daniel Shiffman suivantes, déposer sur GitHub et publier vos précédentes pages web et codes d'activités réalisées sur P5.js :\n",
    "- Version de base détaillée : https://www.youtube.com/embed/bFVtrlyH-kc\n",
    "- Version résumée intégrant P5.js : https://www.youtube.com/embed/8HPYsDTk17A\n",
    "> Par la suite vous pourrez cloner ce dépot et le gérer à distance depuis le serveur jupyterhub, la commande pour pousser sera alors `git push origin gh-pages`"
   ]
  },
  {
   "cell_type": "code",
   "execution_count": 3,
   "metadata": {},
   "outputs": [
    {
     "data": {
      "text/html": [
       "<center>\n",
       "<h2>Version de base détaillée :</h2>\n",
       "<iframe width=\"560\" height=\"315\" src=\"https://www.youtube.com/embed/bFVtrlyH-kc\" frameborder=\"0\" allow=\"accelerometer; autoplay; encrypted-media; gyroscope; picture-in-picture\" allowfullscreen></iframe>\n",
       "<h2>Version résumée intégrant P5.js :</h2>\n",
       "<iframe width=\"560\" height=\"315\" src=\"https://www.youtube.com/embed/8HPYsDTk17A\" frameborder=\"0\" allow=\"accelerometer; autoplay; encrypted-media; gyroscope; picture-in-picture\" allowfullscreen></iframe>\n",
       "</center>\n"
      ],
      "text/plain": [
       "<IPython.core.display.HTML object>"
      ]
     },
     "metadata": {},
     "output_type": "display_data"
    }
   ],
   "source": [
    "%%HTML\n",
    "<center>\n",
    "<h2>Version de base détaillée :</h2>\n",
    "<iframe width=\"560\" height=\"315\" src=\"https://www.youtube.com/embed/bFVtrlyH-kc\" frameborder=\"0\" allow=\"accelerometer; autoplay; encrypted-media; gyroscope; picture-in-picture\" allowfullscreen></iframe>\n",
    "<h2>Version résumée intégrant P5.js :</h2>\n",
    "<iframe width=\"560\" height=\"315\" src=\"https://www.youtube.com/embed/8HPYsDTk17A\" frameborder=\"0\" allow=\"accelerometer; autoplay; encrypted-media; gyroscope; picture-in-picture\" allowfullscreen></iframe>\n",
    "</center>"
   ]
  },
  {
   "cell_type": "markdown",
   "metadata": {},
   "source": [
    "# Besoin n°6 : Collaborer à plusieurs sur un dépot de projet commun :\n",
    "\n",
    "Source : http://defeo.lu/in202/tutorials/tutorial4/\n",
    "\n",
    "Cette partie est à développer en binôme. Choisissez un collègue avec qui travailler et installez-vous sur un même ilot. Vous allez travailler en parallèle sur la construction d’un site web qui parle de Git.\n",
    "\n",
    "On va vous appeler collègue A, et collègue B.\n",
    "Les opérations à réaliser par A ou B seront précédées respectivement par **(- A -)** ou par **(- B -)**. Le reste des consignes concerne, bien sûr, les deux. Au sein d’une même section délimitée par des traits horizontaux, vous pouvez travailler en parallèle. Avant de passer à la section suivante, attendez que votre collègue ait terminé.\n",
    "\n",
    "\n",
    "## 1 - Préparer un répertoire partagé\n",
    "****\n",
    "- **(- A -)** Créez un nouveau répertoire GitHub en vous rendant à l’adresse https://github.com/new. Nommez `Projet` le répertoire, renseignez une description en quelques mots, cochez la case `Initialize this repository with a README`, et cliquez sur `Create repository`.\n",
    "\n",
    "- **(- A -)** Dans les réglages du projet, sélectionnez l’onglet `Collaborators` (url http://github.com/votrePseudoGitHub/Projet/settings/collaboration). Renseignez l’identifiant GitHub de **B** dans la case, et cliquez sur `Add collaborator`. Votre mot de passe vous sera demandé. Maintenant vous avez tous les deux les droits en écriture sur le répertoire.\n",
    "****\n",
    "## 2 - Obtenir une copie locale du répertoire\n",
    "- En ligne de commande avec Git, clonez le répertoire créé par A sur votre espace du serveur jupyterhub. On utilisera la commande `clone`, comme vu précédemment pour le besoin n°2.\n",
    "****\n",
    "- **(- B -)** Créez un fichier index.html dans le répertoire, rempli avec le squelette classique :\n",
    "```\n",
    "<!DOCTYPE html>\n",
    "<html lang=\"fr\">\n",
    "  <head> \n",
    "    <meta charset=\"utf-8\">   \n",
    "    <title>Le titre de ma page</title>    \n",
    "    <meta name=\"author\" content=\"Prenom NOM\">  \n",
    "  </head>\n",
    "  <body>  \n",
    "    <h1></h1>\n",
    "  </body>\n",
    "</html>\n",
    "```\n",
    "\n",
    "- **(- B -)** Créez un `commit` contenant ce fichier. Vérifiez avec les commandes `log` et `status` que le fichier est bien commité. Poussez vos changements avec la commande `push`.\n",
    "****\n",
    "- Vérfiez dans l’interface GitHub que les modifications ont bien été reçues par le serveur.\n",
    "## 3 - Recevoir les mises à jour\n",
    "****\n",
    "- **(- A -)** Avec la commande `pull --ff-only`, tirez les modifications apportées par votre collègue. Vérifiez que le fichier `index.html` est bien reçu.\n",
    "\n",
    "- **(- A -)** Ouvrez et modifiez le fichier `index.html`. Obtenez une page qui ressemble à peu près à cela :\n",
    "\n",
    "<center>\n",
    "   <h1> Le fantastique guide de Git </h1>\n",
    "   <h2> par nom de A &amp;  nom de B</h2>\n",
    "   <h3>Sera bientôt disponible à partir de cette page web</h3>\n",
    "</center>\n",
    "\n",
    "- **(- A -)** Faites une faute d’orthographe dans le nom de votre collègue. Ajoutez un peu de contenu.\n",
    "- **(- A -)** Commitez et poussez.\n",
    "- **(- B -)** Créez un nouveau fichier `commandes.html` et y inclure votre liste descriptive des principales commandes de Git que vous avez connues jusqu’ici telle que :\n",
    "````\n",
    "<hr>\n",
    "<dl>\n",
    "  <dt>git init</dt>\n",
    "  <dd>...</dd>\n",
    "  <hr>  \n",
    "  <dt>git ...</dt>\n",
    "  <dd>...</dd>\n",
    "</dl>\n",
    "<hr>\n",
    "````\n",
    "- **(- B -)** Ne commitez pas. Vérifiez avec la commande `status` que vous avez bien des modifications en cours dans votre répertoire. La sortie de la commande `status` devrait normalement commencer par\n",
    "````\n",
    "Sur la branche master\n",
    "Votre branche est à jour avec 'origin/master'.\n",
    "````\n",
    "    qui vous informe que votre copie locale est à jour.\n",
    "****\n",
    "- **(- B -)** Utilisez la commande `fetch`, puis à nouveau la commande `status`. Si A a correctement poussé ses modifications, la commande status vous annoncera que votre copie locale n’est plus à jour, par le message :\n",
    "````\n",
    "Sur la branche master\n",
    "Votre branche est en retard sur 'origin/master' de 1 commit, ...\n",
    "````\n",
    "    Si le message vous dit que vous êtes encore à jour, attendez que votre collègue ait poussé, puis répétez l’opération.\n",
    "\n",
    "- **(- B -)** Tirez les modifications de votre collègue avec 'pull --ff-only'. Vérifiez avec les commandes 'log' et 'status' que vous avez bien reçu les modifications.\n",
    "\n",
    "Si tout s’est bien passé, vous avez constaté que Git est arrivé à tirer les modifications distantes, même si vous aviez des modifications locales non encore commitées. En effet les modifications concernaient deux fichiers différents, Git a donc pu les intégrer sans difficultés.\n",
    "\n",
    "Git ne détruit jamais les données : si vos modifications avaient porté sur les mêmes fichiers, il aurait refusé de tirer.\n",
    "\n",
    "## 4 - Même chose, rôles inversés\n",
    "- **(- B -)** Commitez maintenant vos modifications à 'commandes.html'. Vérifiez avec les commandes 'status' et 'log' que le 'commit' a bien réussi.\n",
    "\n",
    "- **(- B -)** Poussez les modifications avec la commande 'push'.\n",
    "\n",
    "- **(- A -)** Ajoutez une feuille de style à index.html. Ne committez pas.\n",
    "\n",
    "- **(- A -)** Utilisez la commande fetch, puis à nouveau la commande status. Si B a correctement poussé ses modifications, la commande status vous annoncera que votre copie locale n’est plus à jour, par le message\n",
    "\n",
    "On branch master\n",
    "Your branch is behind of 'origin/master' by 1 commit.\n",
    "- **(- A -)** Si le message vous dit que vous êtes encore up-to-date, attendez que votre collègue ait poussé, puis répétez l’opération.\n",
    "\n",
    "- **(- A -)** Tirez les modifications de votre collègue avec pull --ff-only. Vérifiez avec les commandes log et status que vous avez bien reçu les modifications."
   ]
  },
  {
   "cell_type": "markdown",
   "metadata": {},
   "source": [
    "# Compléments :\n",
    "\n",
    "## Créer des tags :\n",
    "A partir des premiers chiffres hexadécimaux de l'identifiant d'un `commit` (obtenu en faisant un `git log`), on peut créer un tag, c'est à dire publier une version de votre projet dans un état fonctionnel donné, une release, en faisant `git tag 1.0.0 1b2e1d63ff`\n",
    "\n",
    "## Navigation dans GitHub :\n",
    "Des liens relatifs à ajouter dans le fichier `README.md` pour une navigation depuis un dépôt de GitHub :\n",
    "- `[Éditez ce fichier en cliquant ici](../../edit/master/README.md)`\n",
    "- `[Les réglages, c'est par là](../../settings)`\n",
    "- `[Obtenez une copie de ce dépot dans votre compte GitHub en cliquant ici](../../fork)`\n",
    "- \n",
    "\n",
    "Pour les transformer en liens absolus, il faut remplacer `../../` par `https://github.com/votrePseudoGitHub/pNomRepo/`    "
   ]
  },
  {
   "cell_type": "markdown",
   "metadata": {},
   "source": [
    "# Git en local :\n",
    "\n",
    "## Sous Linux :\n",
    "En ligne de commande dans un terminal : `$ apt-get install git-all`\n",
    "\n",
    "## Sous Windows :\n",
    "Télécharger et installer : https://gitforwindows.org/\n",
    "\n",
    "On peut alors gérer avec l'application logiciel Git Bash tout comme dans un terminal d'Anaconda ou de Jupyter, son répertoire utilisateur de Windows en ligne de commande `git` mais également avec la pluspart des commande bash de Linux telle que `ls`, `pwd`,`mkdir`..."
   ]
  },
  {
   "cell_type": "markdown",
   "metadata": {},
   "source": [
    "# Ressources :\n",
    "\n",
    "- RTFM : `~$ git help`, `~$ man git` ou `~$ info git` (touche `Q` pour sortir) ;\n",
    "\n",
    "- La bible en Français : https://git-scm.com/book/fr/v2 ;\n",
    "\n",
    "- La chaine GitHub Training & Guides sur Youtube : https://www.youtube.com/GitHubGuides ;\n",
    "\n",
    "- Sur la Chaine [The Coding Train](https://www.youtube.com/channel/UCvjgXvBlbQiydffZU7m1_aw) de [Daniel Shiffman](https://shiffman.net/) une playlist pour [Git & GitHub](https://www.youtube.com/playlist?list=PLRqwX-V7Uu6ZF9C0YMKuns9sLDzK6zoiV) ;\n",
    "\n",
    "- Un Tutoriel interactif : https://www.codecademy.com/learn/learn-git ;\n",
    "\n",
    "- Le tutoriel de Atlassian : https://www.atlassian.com/git/tutorials ;\n",
    "\n",
    "- Une explication interactive des principales commandes : http://onlywei.github.io/explain-git-with-d3/ ;\n",
    "\n",
    "- Un tutoriel en Français : https://openclassrooms.com/fr/courses/1233741-gerez-vos-codes-source-avec-git ;\n",
    "\n",
    "- Un petit guide en Français : http://rogerdudler.github.io/git-guide/index.fr.html ;\n",
    "\n",
    "- Un pense bête pas bète : https://gist.github.com/aquelito/8596717.\n",
    "\n",
    "- Un client multi-plateforme git cola : http://git-cola.github.io/"
   ]
  },
  {
   "cell_type": "markdown",
   "metadata": {},
   "source": [
    "***  \n",
    "\n",
    "> **Félicitations !** Vous êtes parvenu au bout des activités de ce bloc note.  \n",
    "> Vous êtes maintenant capable de gérer vos dépots GitHub depuis un navigateur via un environnement interactif jupyter notebook.\n",
    "\n",
    "> Pour explorer plus avant d'autres fonctionnalités de jupyter notebook repassez par le [Sommaire](index.ipynb).\n",
    "\n",
    "***"
   ]
  },
  {
   "cell_type": "markdown",
   "metadata": {},
   "source": [
    "<a rel=\"license\" href=\"http://creativecommons.org/licenses/by-sa/4.0/\"><img alt=\"Licence Creative Commons\" style=\"border-width:0\" src=\"https://i.creativecommons.org/l/by-sa/4.0/88x31.png\" /></a><br />Ce document est mis à disposition selon les termes de la <a rel=\"license\" href=\"http://creativecommons.org/licenses/by-sa/4.0/\">Licence Creative Commons Attribution -  Partage dans les Mêmes Conditions 4.0 International</a>.\n",
    "\n",
    "Pour toute question, suggestion ou commentaire : <a href=\"mailto:eric.madec@ecmorlaix.fr\">eric.madec@ecmorlaix.fr</a>"
   ]
  }
 ],
 "metadata": {
  "_draft": {
   "nbviewer_url": "https://gist.github.com/c70dc7ac84733f36139aa073ac6d52ab"
  },
  "gist": {
   "data": {
    "description": "Documents/mesBN/Git-Un_BN_pour_gerer_un_depot_GitHub.ipynb",
    "public": true
   },
   "id": "c70dc7ac84733f36139aa073ac6d52ab"
  },
  "kernelspec": {
   "display_name": "Python 3",
   "language": "python",
   "name": "python3"
  },
  "language_info": {
   "codemirror_mode": {
    "name": "ipython",
    "version": 3
   },
   "file_extension": ".py",
   "mimetype": "text/x-python",
   "name": "python",
   "nbconvert_exporter": "python",
   "pygments_lexer": "ipython3",
   "version": "3.7.3"
  },
  "toc": {
   "base_numbering": 1,
   "nav_menu": {},
   "number_sections": true,
   "sideBar": true,
   "skip_h1_title": false,
   "title_cell": "Table of Contents",
   "title_sidebar": "Contents",
   "toc_cell": false,
   "toc_position": {},
   "toc_section_display": true,
   "toc_window_display": false
  },
  "varInspector": {
   "cols": {
    "lenName": 16,
    "lenType": 16,
    "lenVar": 40
   },
   "kernels_config": {
    "python": {
     "delete_cmd_postfix": "",
     "delete_cmd_prefix": "del ",
     "library": "var_list.py",
     "varRefreshCmd": "print(var_dic_list())"
    },
    "r": {
     "delete_cmd_postfix": ") ",
     "delete_cmd_prefix": "rm(",
     "library": "var_list.r",
     "varRefreshCmd": "cat(var_dic_list()) "
    }
   },
   "types_to_exclude": [
    "module",
    "function",
    "builtin_function_or_method",
    "instance",
    "_Feature"
   ],
   "window_display": false
  }
 },
 "nbformat": 4,
 "nbformat_minor": 2
}
