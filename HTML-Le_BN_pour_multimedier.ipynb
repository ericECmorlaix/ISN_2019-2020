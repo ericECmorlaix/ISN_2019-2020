{
 "cells": [
  {
   "cell_type": "markdown",
   "metadata": {
    "slideshow": {
     "slide_type": "slide"
    }
   },
   "source": [
    "# Le Bloc Note pour le multimédia"
   ]
  },
  {
   "cell_type": "markdown",
   "metadata": {
    "slideshow": {
     "slide_type": "subslide"
    }
   },
   "source": [
    "Dans un notebook jupyter on peut rédiger des commentaires en langage naturel, intégrer des liens hypertextes, des images et des vidéo en langage HTML dans des cellules de type **`Markdown`**"
   ]
  },
  {
   "cell_type": "markdown",
   "metadata": {
    "slideshow": {
     "slide_type": "fragment"
    }
   },
   "source": [
    "***  \n",
    "> Ce document est un notebook jupyter, pour bien vous familiariser avec cet environnement regardez cette rapide [Introduction](Introduction-Le_BN_pour_explorer.ipynb).  \n",
    "\n",
    "***"
   ]
  },
  {
   "cell_type": "markdown",
   "metadata": {
    "slideshow": {
     "slide_type": "subslide"
    }
   },
   "source": [
    "**HTML** est un langage de description à balisage pour publier un document sur le Web : en même temps que l'on écrit du contenu on l'encadre entre des balises codifiées spécifiques **`<balise> Contenu à afficher </balise>`** , qui indiquent au navigateur comment il faut l'afficher..."
   ]
  },
  {
   "cell_type": "markdown",
   "metadata": {
    "slideshow": {
     "slide_type": "fragment"
    }
   },
   "source": [
    "> Pour voir le résultat du code **HTML** basculer le type des cellules ci-dessous du type **`Raw NBConvert`** en **`Markdown`**, puis appuyer sur les touches **`<Maj+Entree>`**."
   ]
  },
  {
   "cell_type": "markdown",
   "metadata": {
    "slideshow": {
     "slide_type": "slide"
    }
   },
   "source": [
    "## Les titres :"
   ]
  },
  {
   "cell_type": "raw",
   "metadata": {
    "slideshow": {
     "slide_type": "subslide"
    }
   },
   "source": [
    "<h1>Titre de niveau 1</h1>\n",
    "<h2>Titre de niveau 2</h2>\n",
    "<h3>Titre de niveau 3</h3>\n",
    "<h4>Titre de niveau 4</h4>\n",
    "<h5>Titre de niveau 5</h5>"
   ]
  },
  {
   "cell_type": "markdown",
   "metadata": {
    "slideshow": {
     "slide_type": "slide"
    }
   },
   "source": [
    "## Le corps de texte :"
   ]
  },
  {
   "cell_type": "raw",
   "metadata": {
    "slideshow": {
     "slide_type": "subslide"
    }
   },
   "source": [
    "Sed quid est quod in hac causa maxime homines admirentur et reprehendant meum consilium, cum ego idem antea multa decreverim, que magis ad hominis dignitatem quam ad rei publicae necessitatem pertinerent ?\n",
    "Supplicationem quindecim dierum decrevi sententia mea.\n",
    "Rei publicae satis erat tot dierum quot C. Mario ; dis immortalibus non erat exigua eadem gratulatio quae ex maximis bellis.\n",
    "Ergo ille cumulus dierum hominis est dignitati tributus.\n",
    "Et prima post Osdroenam quam, ut dictum est, ab hac descriptione discrevimus, Commagena, nunc Euphratensis, clementer adsurgit, Hierapoli, vetere Nino et Samosata civitatibus amplis inlustris."
   ]
  },
  {
   "cell_type": "markdown",
   "metadata": {
    "slideshow": {
     "slide_type": "fragment"
    }
   },
   "source": [
    "### Retour à la ligne et paragraphes\n",
    "> Dans le [lorem ipsum](https://fr.wikipedia.org/wiki/Faux-texte \"lien wikipedia\") ci-dessus, insérer un balise **`<br>`** à la fin d'une phrase pour forcer le retour à la ligne et encadrer une ou plusieurs phrases entre des balises **`<p>...</p>`** pour former des paragraphes."
   ]
  },
  {
   "cell_type": "markdown",
   "metadata": {
    "slideshow": {
     "slide_type": "subslide"
    }
   },
   "source": [
    "### Italique"
   ]
  },
  {
   "cell_type": "raw",
   "metadata": {
    "slideshow": {
     "slide_type": "-"
    }
   },
   "source": [
    "<p><em>Texte</em> avec <i>emphase</i> en Italique</p>"
   ]
  },
  {
   "cell_type": "markdown",
   "metadata": {
    "slideshow": {
     "slide_type": "fragment"
    }
   },
   "source": [
    "### Gras"
   ]
  },
  {
   "cell_type": "raw",
   "metadata": {
    "slideshow": {
     "slide_type": "-"
    }
   },
   "source": [
    "<p><strong>Texte</strong> plus <b>important</b> en Gras</p>"
   ]
  },
  {
   "cell_type": "markdown",
   "metadata": {
    "slideshow": {
     "slide_type": "fragment"
    }
   },
   "source": [
    "### Gras et italique combinés"
   ]
  },
  {
   "cell_type": "raw",
   "metadata": {
    "slideshow": {
     "slide_type": "-"
    }
   },
   "source": [
    "<p><b><i>Texte<i></b> à la fois en <strong>gras</strong> et en <em>italique</em></p>"
   ]
  },
  {
   "cell_type": "markdown",
   "metadata": {
    "slideshow": {
     "slide_type": "subslide"
    }
   },
   "source": [
    "### Barré"
   ]
  },
  {
   "cell_type": "raw",
   "metadata": {
    "collapsed": true,
    "slideshow": {
     "slide_type": "-"
    }
   },
   "source": [
    "<p>Texte barré <del>à supprimer</del></p>"
   ]
  },
  {
   "cell_type": "markdown",
   "metadata": {},
   "source": [
    "> En comparant avec le bloc note [Markdown](MarkDown-Le_BN_pour_rapporter.ipynb), tout ce que l'on a codé jusque là en **HTML** est nettement plus simple et donc plus rapide à écrire en **Markdown**.  \n",
    "En revanche, les autres formatage de texte suivantes comme le <u>souligné</u> n'existe pas en **Markdown**. Il faut donc obligatoirement le faire en **HTML**.  \n",
    "Ce qui est génial avec jupyter notebook c'est que l'on peut mélanger les langages **Mardown** et **HTML** (et même **LaTeX**) dans une même cellule de type **`Markdown`**.  \n",
    "On est donc libre de choisir le code qui correspond le mieux à notre besoin..."
   ]
  },
  {
   "cell_type": "markdown",
   "metadata": {
    "slideshow": {
     "slide_type": "subslide"
    }
   },
   "source": [
    "### Souligné"
   ]
  },
  {
   "cell_type": "raw",
   "metadata": {
    "slideshow": {
     "slide_type": "subslide"
    }
   },
   "source": [
    "<p><ins>Texte</ins> qui a été <u>inséré</u> en souligné</p>"
   ]
  },
  {
   "cell_type": "markdown",
   "metadata": {
    "slideshow": {
     "slide_type": "subslide"
    }
   },
   "source": [
    "### Autres"
   ]
  },
  {
   "cell_type": "raw",
   "metadata": {},
   "source": [
    "<p>Texte : <small>petit</small>, <s>incorrect</s>, <sub>indice</sub>, <sup>exposant</sup>, <mark>surligné</mark></p>"
   ]
  },
  {
   "cell_type": "markdown",
   "metadata": {
    "slideshow": {
     "slide_type": "fragment"
    }
   },
   "source": [
    "> Dans le [lorem ipsum](https://fr.wikipedia.org/wiki/Faux-texte \"lien wikipedia\") ci-dessus, formater certains éléments pour les afficher soit en *italique*, en **gras**, en ~~barré~~, en <u>souligné</u> ou <mark>autres</mark>..."
   ]
  },
  {
   "cell_type": "markdown",
   "metadata": {
    "slideshow": {
     "slide_type": "slide"
    }
   },
   "source": [
    "## Les listes :"
   ]
  },
  {
   "cell_type": "markdown",
   "metadata": {
    "slideshow": {
     "slide_type": "subslide"
    }
   },
   "source": [
    "### Non ordonnée"
   ]
  },
  {
   "cell_type": "raw",
   "metadata": {
    "slideshow": {
     "slide_type": "-"
    }
   },
   "source": [
    "<ul>\n",
    "  <li>Un élement de ma liste ;</li>\n",
    "  <li>Un autre élément de ma liste ;\n",
    "    <ul>\n",
    "      <li>Un élément de ma sous-liste ;</li>\n",
    "      <li>Un autre élément de ma sous-liste ;</li>\n",
    "    </ul>\n",
    "  </li>\n",
    "  <li>Encore un autre élément de ma liste.</li>\n",
    "</ul>"
   ]
  },
  {
   "cell_type": "markdown",
   "metadata": {
    "slideshow": {
     "slide_type": "subslide"
    }
   },
   "source": [
    "### Ordonnée"
   ]
  },
  {
   "cell_type": "raw",
   "metadata": {
    "slideshow": {
     "slide_type": "-"
    }
   },
   "source": [
    "<ol>\n",
    "  <li>Le premier élement de ma liste ;</li>\n",
    "  <li>Le second élément de ma liste ;\n",
    "    <ol>\n",
    "      <li>Le premier élément de ma sous-liste ;</li>\n",
    "      <li>Le second élément de ma sous-liste ;</li>\n",
    "    </ol>\n",
    "  </li>\n",
    "  <li>Le troisième élément de ma liste.</li>\n",
    "</ol>"
   ]
  },
  {
   "cell_type": "markdown",
   "metadata": {},
   "source": [
    "### Descriptive"
   ]
  },
  {
   "cell_type": "raw",
   "metadata": {},
   "source": [
    "<dl>\n",
    "  <dt>Coffee</dt>\n",
    "  <dd>Black hot drink</dd>\n",
    "  <dt>Milk</dt>\n",
    "  <dd>White cold drink</dd>\n",
    "</dl>"
   ]
  },
  {
   "cell_type": "markdown",
   "metadata": {
    "slideshow": {
     "slide_type": "slide"
    }
   },
   "source": [
    "## Les citations :"
   ]
  },
  {
   "cell_type": "raw",
   "metadata": {
    "slideshow": {
     "slide_type": "subslide"
    }
   },
   "source": [
    "<blockquote>\n",
    "  <p>Ceci est une citation</p>\n",
    "</blockquote>"
   ]
  },
  {
   "cell_type": "markdown",
   "metadata": {
    "slideshow": {
     "slide_type": "slide"
    }
   },
   "source": [
    "## Les traits horizontaux de séparation"
   ]
  },
  {
   "cell_type": "raw",
   "metadata": {
    "slideshow": {
     "slide_type": "subslide"
    }
   },
   "source": [
    "<hr>\n",
    "<hr>"
   ]
  },
  {
   "cell_type": "markdown",
   "metadata": {
    "slideshow": {
     "slide_type": "slide"
    }
   },
   "source": [
    "## Tableau :"
   ]
  },
  {
   "cell_type": "raw",
   "metadata": {
    "slideshow": {
     "slide_type": "subslide"
    }
   },
   "source": [
    "<table>\n",
    "  <thead>\n",
    "    <tr>\n",
    "      <th>Tables</th>\n",
    "      <th style=\"text-align:center\">Are</th>\n",
    "      <th style=\"text-align:right\">Cool</th>\n",
    "    </tr>\n",
    "  </thead>\n",
    "  <tbody>\n",
    "    <tr>\n",
    "      <td>col 1 is</td>\n",
    "      <td style=\"text-align:center\">left-aligned</td>\n",
    "      <td style=\"text-align:right\">1600</td>\n",
    "    </tr>\n",
    "    <tr>\n",
    "      <td>col 2 is</td>\n",
    "      <td style=\"text-align:center\">centered</td>\n",
    "      <td style=\"text-align:right\">12</td>\n",
    "    </tr>\n",
    "    <tr>\n",
    "      <td>col 3 is</td>\n",
    "      <td style=\"text-align:center\">right-aligned</td>\n",
    "      <td style=\"text-align:right\">1</td>\n",
    "    </tr>\n",
    "  </tbody>\n",
    "</table>"
   ]
  },
  {
   "cell_type": "markdown",
   "metadata": {
    "slideshow": {
     "slide_type": "subslide"
    }
   },
   "source": [
    "> On peut très avantageusement utiliser un générateur de tableau comme : https://www.tablesgenerator.com/html_tables#"
   ]
  },
  {
   "cell_type": "markdown",
   "metadata": {
    "slideshow": {
     "slide_type": "slide"
    }
   },
   "source": [
    "## Commentaire :"
   ]
  },
  {
   "cell_type": "raw",
   "metadata": {
    "slideshow": {
     "slide_type": "subslide"
    }
   },
   "source": [
    "<!-- \n",
    "    Ceci est un commentaire,\n",
    "    \n",
    "    les informations inscritent ici ne s'afficheront pas sur l'écran.\n",
    "    \n",
    "    C'est très utile lorsque l'on développe un document en équipe de pouvoir inscrire dans le code des notes destinées uniquement aux Webmasters.\n",
    "    \n",
    "-->"
   ]
  },
  {
   "cell_type": "markdown",
   "metadata": {
    "slideshow": {
     "slide_type": "fragment"
    }
   },
   "source": [
    "> Attention toutefois car les commentaires sont toujours visibles dans le code source de la page..."
   ]
  },
  {
   "cell_type": "markdown",
   "metadata": {
    "slideshow": {
     "slide_type": "slide"
    }
   },
   "source": [
    "## Image :"
   ]
  },
  {
   "cell_type": "raw",
   "metadata": {
    "slideshow": {
     "slide_type": "subslide"
    }
   },
   "source": [
    "<img src=\"http://www.google.com/logos/2012/turing-doodle-static.jpg\" alt=\"Turing's Device\" title=\"Alan Turing's 100th Birthday\">"
   ]
  },
  {
   "cell_type": "markdown",
   "metadata": {
    "slideshow": {
     "slide_type": "fragment"
    }
   },
   "source": [
    "> Pour afficher une image, il faut utiliser un balise unique **`<img>`** ;  \n",
    "Indiquer **`src=`** l’URL de l’image entre guillemets. Cette URL peut être un lien vers le web ou un chemin local de ce type : \"/dossier_images/nom_de_mon_image.jpg\".  \n",
    "Puis ajouter **`alt=`** le texte alternatif entre guillemets. Ce dernier sera affiché si l’image n’est pas chargé et lu par les moteurs de recherche.  \n",
    "Après, il est possible d’ajouter un titre lu par les navigateurs textuels et affiché au survol de l’image par les autres."
   ]
  },
  {
   "cell_type": "raw",
   "metadata": {
    "slideshow": {
     "slide_type": "subslide"
    }
   },
   "source": [
    "<img src=\"img/ECAM-Lycee-Notre-Dame-Du-Mur.png\" alt=\"Logo du Lycee Notre Dame Du Mur\" title=\"Logo du Lycee Notre Dame Du Mur de Morlaix\" width=\"50%\">\n",
    "<center>Logo du Lycee Notre Dame Du Mur de Morlaix.</center>"
   ]
  },
  {
   "cell_type": "markdown",
   "metadata": {
    "slideshow": {
     "slide_type": "fragment"
    }
   },
   "source": [
    "> Le gros avantage du code **HTML** comparativement au **Markdown** concernant les images est que l'on peut gérer très simplement sa taille d'affichage en renseignant les attributs **`width=`** et/ou **`height=`**"
   ]
  },
  {
   "cell_type": "markdown",
   "metadata": {
    "slideshow": {
     "slide_type": "slide"
    }
   },
   "source": [
    "## Lien hypertexte :"
   ]
  },
  {
   "cell_type": "raw",
   "metadata": {
    "slideshow": {
     "slide_type": "subslide"
    }
   },
   "source": [
    "<a href=\"http://ecmorlaix.fr/\">http://ecmorlaix.fr/</a>"
   ]
  },
  {
   "cell_type": "raw",
   "metadata": {
    "slideshow": {
     "slide_type": "fragment"
    }
   },
   "source": [
    "<p>Le portail de l'<a href=\"http://ecmorlaix.fr/\" title=\"Lien vers le portail des Etablissement Catholiques Associés de Morlaix\">ECA.M</a></p>"
   ]
  },
  {
   "cell_type": "raw",
   "metadata": {
    "slideshow": {
     "slide_type": "fragment"
    }
   },
   "source": [
    "<a href=\"http://ecmorlaix.fr/\" title=\"Lien vers le portail des Etablissement Catholiques Associés de Morlaix\"><img src=\"img/ECAM-Logo.png\" alt=\"Logo de l'ECA.M\" width=\"30%\"></a>"
   ]
  },
  {
   "cell_type": "markdown",
   "metadata": {
    "slideshow": {
     "slide_type": "slide"
    }
   },
   "source": [
    "## Vidéo :"
   ]
  },
  {
   "cell_type": "raw",
   "metadata": {
    "slideshow": {
     "slide_type": "subslide"
    }
   },
   "source": [
    "<video width=\"560\" controls src=\"img/movie.mp4\">"
   ]
  },
  {
   "cell_type": "markdown",
   "metadata": {
    "slideshow": {
     "slide_type": "subslide"
    }
   },
   "source": [
    "> Avec cette dernière fonctionnalité pour la vidéo, qui complète celles pour les images, les tableaux, les hyperliens, ..., le codage en **HTML** des cellules de type **`Markdown`** couvre les besoins pour la rédaction de comptes-rendus multimédias publiables sur le web.  \n",
    "\n",
    "> Cette rédaction peut-être largement simplifiée et accélérée grace au codage **[Markdown](MarkDown-Le_BN_pour_rapporter.ipynb)** mais qui permet un peu moins de fonctionnalité multimédia que le codage **HTML**. Il faudra donc les combiner pour prendre le meilleur des deux...  \n",
    "\n",
    "> Toutes les fonctionnalités multimédia de **HTML** ne sont cependant pas supportées par les cellules de type **`Markdown`** d'un jupyter notebook. Par exemple, pour intégrer une vidéo Youtube via une balise `<iframe> </iframe>` ou n'importe quelle autre code **HTML**, il faudra recourir aux fonctions `magic`de IPython dans une cellule de type **`Code`** :"
   ]
  },
  {
   "cell_type": "code",
   "execution_count": null,
   "metadata": {
    "collapsed": true,
    "slideshow": {
     "slide_type": "subslide"
    }
   },
   "outputs": [],
   "source": [
    "%%HTML\n",
    "<center>\n",
    "<iframe width=\"560\" height=\"420\" src=\"https://www.youtube.com/embed/fWBcQUdxkrI?rel=0\" frameborder=\"0\" gesture=\"media\" allow=\"encrypted-media\" allowfullscreen></iframe>\n",
    "<h1>Et Bonne Année 2018 ...</h1>\n",
    "</center>"
   ]
  },
  {
   "cell_type": "markdown",
   "metadata": {
    "slideshow": {
     "slide_type": "slide"
    }
   },
   "source": [
    "## Ressources :"
   ]
  },
  {
   "cell_type": "markdown",
   "metadata": {
    "slideshow": {
     "slide_type": "fragment"
    }
   },
   "source": [
    "* Pour aller plus loin en HTML/CSS : http://api.si.lycee.ecmorlaix.fr/APprentissageHtmlCss/\n",
    "* Un site de référence pour le HTML5 : https://www.w3schools.com/html/default.asp"
   ]
  },
  {
   "cell_type": "markdown",
   "metadata": {
    "slideshow": {
     "slide_type": "slide"
    }
   },
   "source": [
    "## A vous de jouer :"
   ]
  },
  {
   "cell_type": "markdown",
   "metadata": {
    "slideshow": {
     "slide_type": "fragment"
    }
   },
   "source": [
    "Saisir votre texte balisé en code HTML dans la cellule suivante, jupyter affichera le résultat mis en forme automatiquement..."
   ]
  },
  {
   "cell_type": "raw",
   "metadata": {
    "collapsed": true,
    "slideshow": {
     "slide_type": "-"
    }
   },
   "source": []
  },
  {
   "cell_type": "markdown",
   "metadata": {
    "slideshow": {
     "slide_type": "slide"
    }
   },
   "source": [
    "***  \n",
    "\n",
    "> **Félicitations !** Vous êtes parvenu au bout des activités de ce bloc note.  \n",
    "> Vous êtes maintenant capable de rédiger en **HTML** dans l'environnement interactif jupyter notebook.\n",
    "\n",
    "> Pour explorer plus avant d'autres fonctionnalités de jupyter notebook repassez par le [Sommaire](index.ipynb).\n",
    "\n",
    "***"
   ]
  },
  {
   "cell_type": "markdown",
   "metadata": {
    "slideshow": {
     "slide_type": "-"
    }
   },
   "source": [
    "<a rel=\"license\" href=\"http://creativecommons.org/licenses/by-sa/4.0/\"><img alt=\"Licence Creative Commons\" style=\"border-width:0\" src=\"https://i.creativecommons.org/l/by-sa/4.0/88x31.png\" /></a><br />Ce document est mis à disposition selon les termes de la <a rel=\"license\" href=\"http://creativecommons.org/licenses/by-sa/4.0/\">Licence Creative Commons Attribution -  Partage dans les Mêmes Conditions 4.0 International</a>.\n",
    "\n",
    "Pour toute question, suggestion ou commentaire : <a href=\"mailto:eric.madec@ecmorlaix.fr\">eric.madec@ecmorlaix.fr</a>"
   ]
  }
 ],
 "metadata": {
  "kernelspec": {
   "display_name": "Python 3",
   "language": "python",
   "name": "python3"
  },
  "language_info": {
   "codemirror_mode": {
    "name": "ipython",
    "version": 3
   },
   "file_extension": ".py",
   "mimetype": "text/x-python",
   "name": "python",
   "nbconvert_exporter": "python",
   "pygments_lexer": "ipython3",
   "version": "3.7.3"
  },
  "toc": {
   "base_numbering": 1,
   "nav_menu": {},
   "number_sections": true,
   "sideBar": true,
   "skip_h1_title": false,
   "title_cell": "Table of Contents",
   "title_sidebar": "Contents",
   "toc_cell": false,
   "toc_position": {},
   "toc_section_display": true,
   "toc_window_display": false
  },
  "varInspector": {
   "cols": {
    "lenName": 16,
    "lenType": 16,
    "lenVar": 40
   },
   "kernels_config": {
    "python": {
     "delete_cmd_postfix": "",
     "delete_cmd_prefix": "del ",
     "library": "var_list.py",
     "varRefreshCmd": "print(var_dic_list())"
    },
    "r": {
     "delete_cmd_postfix": ") ",
     "delete_cmd_prefix": "rm(",
     "library": "var_list.r",
     "varRefreshCmd": "cat(var_dic_list()) "
    }
   },
   "types_to_exclude": [
    "module",
    "function",
    "builtin_function_or_method",
    "instance",
    "_Feature"
   ],
   "window_display": false
  }
 },
 "nbformat": 4,
 "nbformat_minor": 2
}
