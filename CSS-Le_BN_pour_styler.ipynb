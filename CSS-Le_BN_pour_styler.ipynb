{
 "cells": [
  {
   "cell_type": "markdown",
   "metadata": {
    "slideshow": {
     "slide_type": "slide"
    }
   },
   "source": [
    "# Le Bloc Note pour ajouter du style"
   ]
  },
  {
   "cell_type": "markdown",
   "metadata": {
    "slideshow": {
     "slide_type": "subslide"
    }
   },
   "source": [
    "Dans un notebook jupyter on peut rédiger des commentaires en langage naturel, intégrer des liens hypertextes, des images et des vidéos en langage HTML dans des cellules de type **`Markdown`**.\n",
    "\n",
    "C'est ce que décrit le bloc-note [HTML](HTML-Le_BN_pour_multimedier.ipynb) - Un bloc-note pour créer un document Web multimédia en HTML dans un jupyter notebook.\n",
    "\n",
    "Cependant, l'affichage se fait avec le rendu définit dans le style par défaut de l'environnement jupyter notebook qui est utilisé pour lire le document.\n",
    "\n",
    "Nous allons voir qu'il est possible de modifier cette affichage en apportant du code CSS et cela à différents niveaux..."
   ]
  },
  {
   "cell_type": "markdown",
   "metadata": {
    "slideshow": {
     "slide_type": "fragment"
    }
   },
   "source": [
    "***  \n",
    "> Ce document est un notebook jupyter, pour bien vous familiariser avec cet environnement regardez cette rapide [Introduction](Introduction-Le_BN_pour_explorer.ipynb).  \n",
    "\n",
    "***"
   ]
  },
  {
   "cell_type": "markdown",
   "metadata": {
    "slideshow": {
     "slide_type": "subslide"
    }
   },
   "source": [
    "**CSS**, pour [Cascading Style Sheets](https://fr.wikipedia.org/wiki/Feuilles_de_style_en_cascade), est un langage qui décrit au navigateur le style dans lequel le contenu d'une page HTML doit être affichée.\n",
    "\n",
    "Il s'agit de déclarer des propriétés CSS et leur valeur, soit directement dans la balise du code HTML à \"styler\", ou par l'intermédiaire d'un sélecteur qui pointe vers l'élément HTML visé.\n",
    "\n",
    "![https://www.w3schools.com/css/css_syntax.asp](https://www.w3schools.com/css/selector.gif)\n",
    "\n",
    "\n",
    "La suite n'utilise que quelques propriétés de CSS afin de montrer comment les appliquer dans un jupyter notebook.\n",
    "\n",
    "Pour bien comprendre et vous initiez au langage CSS vous pouvez, par exemple, faire ce tutoriel de la [Khanacademy](https://fr.khanacademy.org/computing/computer-programming/html-css/intro-to-css/pt/css-basics) et pour le découvrir de façon plus complète et détaillée rendez-vous sur ce site de référence https://www.w3schools.com/css/..."
   ]
  },
  {
   "cell_type": "markdown",
   "metadata": {
    "slideshow": {
     "slide_type": "slide"
    }
   },
   "source": [
    "## Déclaration CSS en ligne :\n",
    "\n",
    "La façon la plus simple d'apporter un peu de style dans une cellule de type Markdown d'un jupyter notebook est d'écrire la déclaration CSS directement dans la balise HTML concernée :"
   ]
  },
  {
   "cell_type": "markdown",
   "metadata": {
    "slideshow": {
     "slide_type": "fragment"
    }
   },
   "source": [
    "> Pour voir le résultat du code **CSS** associé au **HTML** copier/coller les deux codes suivants dans deux cellules de type   **`Markdown`**, puis appuyer sur les touches **`<Maj+Entree>`**.\n",
    "\n",
    "**** \n",
    "\n",
    "````html\n",
    "<h1 style=\"color:purple;text-shadow: 3px 2px darkorange;text-align:center; font-size:5vw;font-variant: small-caps;\">\n",
    "    Un résultat stylé !\n",
    "</h1>\n",
    "<h1>\n",
    "    Le résultat par défaut.\n",
    "</h1>\n",
    "````\n",
    "\n",
    "****\n",
    "\n",
    "````html\n",
    "<center><br>\n",
    "    <img src=\"https://ericecmorlaix.github.io/img/Jupyter_logo.svg\" style = \"display:inline-block\">\n",
    "    <img src=\"https://ericecmorlaix.github.io/img/Jupyter_logo.svg\" style = \"display:inline-block\">\n",
    "    <img src=\"https://ericecmorlaix.github.io/img/Jupyter_logo.svg\" style = \"display:inline-block\">\n",
    "    <img src=\"https://ericecmorlaix.github.io/img/Jupyter_logo.svg\">\n",
    "    <img src=\"https://ericecmorlaix.github.io/img/Jupyter_logo.svg\">\n",
    "    <img src=\"https://ericecmorlaix.github.io/img/Jupyter_logo.svg\">\n",
    "</center>\n",
    "````\n",
    "\n",
    "****"
   ]
  },
  {
   "cell_type": "raw",
   "metadata": {},
   "source": []
  },
  {
   "cell_type": "raw",
   "metadata": {},
   "source": []
  },
  {
   "cell_type": "markdown",
   "metadata": {},
   "source": [
    "> L'attribut style ajouté en ligne dans une balise HTML permet de surcharger le CSS pour forcer un style d'affichage différent du style par défaut. Les trois premières images s'affichent donc ici en ligne, l'une à coté de l'autre, et non pas comme par défaut, en bloc, l'une sous l'autre : https://www.w3schools.com/css/css_inline-block.asp."
   ]
  },
  {
   "cell_type": "markdown",
   "metadata": {},
   "source": [
    "## Déclaration CSS en interne :\n",
    "\n",
    "La déclaration du CSS en ligne est limitée car elle ne s'applique qu'à une seule balise. Si on souhaite appliquer le même style à plusieurs balises, il nous faut le réécrire à chaque fois...\n",
    "\n",
    "Si on écrit toutes les déclaration de CSS entre deux balises `<styles>...</style>` dans un code HTML, il  s'appliquera potentiellement à tout le contenu de ce code. Et alors, pour distinguer à quelle balise le style doit s'appliquer spécifiquement, on utilise des sélecteurs : https://www.w3schools.com/css/css_selectors.asp\n",
    "\n",
    "Celà devient très pertinent lorsque l'on souhaite faire une simple modification dans le style car il suffit de la faire à un seul endroit pour qu'elle s'étende sur l'ensemble du code concerné.\n",
    "\n",
    "> Pour voir le résultat du code **CSS** sur le **HTML** visé copier/coller tout le code suivant dans une cellule de type   **`Markdown`**, puis appuyer sur les touches **`<Maj+Entree>`**.\n",
    "\n",
    "**** \n",
    "\n",
    "````html\n",
    "<style>\n",
    "    h1 {\n",
    "        color:purple;\n",
    "        text-shadow: 3px 2px darkorange;\n",
    "        text-align:center;\n",
    "        font-style: oblique;        \n",
    "        font-variant: small-caps;\n",
    "    }\n",
    "</style>\n",
    "<h1 style=\"font-size:5vw\">Un résultat sur-stylé !</h1>\n",
    "<h1>Le nouveau résultat par défaut.</h1>\n",
    "````\n",
    "\n",
    "****"
   ]
  },
  {
   "cell_type": "raw",
   "metadata": {},
   "source": []
  },
  {
   "cell_type": "markdown",
   "metadata": {},
   "source": [
    "On observe que le style définit entre deux balises `<styles>...</style>` dans un code HTML, ne s'applique pas dans une cellule de type Markdown.\n",
    "\n",
    "Pour celà il nous faut recourrir à la fonction \"magic\" `%%html` de IPython dans une cellule de type **`Code`** :"
   ]
  },
  {
   "cell_type": "code",
   "execution_count": null,
   "metadata": {},
   "outputs": [],
   "source": [
    "%%HTML\n",
    "<style>\n",
    "    h1 {\n",
    "        color:purple;\n",
    "        text-shadow: 3px 2px darkorange;\n",
    "        text-align:center;\n",
    "        font-style: oblique;        \n",
    "        font-variant: small-caps;\n",
    "    }\n",
    "</style>\n",
    "<h1 style=\"font-size:5vw\">Un résultat sur-stylé !</h1>\n",
    "<h1>Le nouveau résultat par défaut.</h1>"
   ]
  },
  {
   "cell_type": "markdown",
   "metadata": {
    "slideshow": {
     "slide_type": "subslide"
    }
   },
   "source": [
    "***Super !*** Notre style c'est maintenant bien appliqué aux balises `<h1>` ciblés et on peut toujours surcharger une balise en particulier avec du style en ligne...\n",
    "\n",
    "***Problème !*** Notre style c'est aussi appliqué à toutes les balises `<h1>` précédentes de ce notebook et même au titre de niveau 1 codé en Markdown tout en haut de cette page, comme il s'appliquera au code suivant s'il est copier/coller dans une cellule de type  **`Markdown`** :\n",
    "\n",
    "**** \n",
    "\n",
    "````markdown\n",
    "# Mon titre de niveau 1 codé en markdown est stylé !\n",
    "````\n",
    "\n",
    "****"
   ]
  },
  {
   "cell_type": "raw",
   "metadata": {},
   "source": []
  },
  {
   "cell_type": "markdown",
   "metadata": {
    "slideshow": {
     "slide_type": "subslide"
    }
   },
   "source": [
    "On vient de définir un style qui s'applique à tout ce jupyter notebook. C'est intéressant...\n",
    "\n",
    "Pour annuler son effet il faut Redémarrer le Noyau & Effacer toutes les sorties (``Kernel > Restart & Clear Output``).\n",
    "\n",
    "Mais si on souhaite que ce style ne s'applique qu'à certaines balises, il nous faut être plus précis avec nos sélecteurs CSS, par exemple, en utilisant une sélection par classe :"
   ]
  },
  {
   "cell_type": "code",
   "execution_count": null,
   "metadata": {},
   "outputs": [],
   "source": [
    "%%HTML\n",
    "<style>\n",
    ".maClasse {\n",
    "        color:purple;\n",
    "        text-shadow: 3px 2px darkorange;\n",
    "        text-align:center;\n",
    "        font-style: oblique;        \n",
    "        font-variant: small-caps;\n",
    "    }\n",
    "</style>\n",
    "<h1 class = \"maClasse\" style=\"font-size:5vw\">Un résultat sur-stylé !</h1>\n",
    "<h1 class = \"maClasse\">Le nouveau résultat stylé.</h1>"
   ]
  },
  {
   "cell_type": "markdown",
   "metadata": {},
   "source": [
    "Et on peut maintenant le réutiliser n'importe où dans ce jupyter notebook dans une simple cellule Markdown"
   ]
  },
  {
   "cell_type": "raw",
   "metadata": {},
   "source": [
    "<p class = \"maClasse\">Super ! Mon style s'applique où je le souhaite...</p>"
   ]
  },
  {
   "cell_type": "markdown",
   "metadata": {
    "slideshow": {
     "slide_type": "subslide"
    }
   },
   "source": [
    "### Exemple d'application :\n",
    "\n",
    "Ainsi si on utilise un [générateur de tableau HTML](https://www.tablesgenerator.com/html_tables#) et que l'on souhaite que le style CSS soit pris en compte, on peut copier/coller le code du style CSS dans une cellule de ``Code`` et celui du contenu HTML dans une cellule ``Markdown``:"
   ]
  },
  {
   "cell_type": "code",
   "execution_count": null,
   "metadata": {},
   "outputs": [],
   "source": [
    "%%html\n",
    "<style type=\"text/css\">\n",
    ".tg  {border-collapse:collapse;border-spacing:0;border-color:#aabcfe;margin:0px auto;}\n",
    ".tg td{font-family:Arial, sans-serif;font-size:14px;padding:12px 12px;border-style:solid;border-width:1px;overflow:hidden;word-break:normal;border-color:#aabcfe;color:#669;background-color:#e8edff;}\n",
    ".tg th{font-family:Arial, sans-serif;font-size:14px;font-weight:normal;padding:12px 12px;border-style:solid;border-width:1px;overflow:hidden;word-break:normal;border-color:#aabcfe;color:#039;background-color:#b9c9fe;}\n",
    ".tg .tg-c9kt{font-size:16px;font-family:\"Comic Sans MS\", cursive, sans-serif !important;;text-align:left;vertical-align:middle}\n",
    ".tg .tg-sd90{font-weight:bold;font-size:16px;font-family:\"Comic Sans MS\", cursive, sans-serif !important;;text-align:left;vertical-align:middle}\n",
    ".tg .tg-nyir{background-color:#D2E4FC;font-size:16px;font-family:\"Comic Sans MS\", cursive, sans-serif !important;;text-align:left;vertical-align:middle}\n",
    "</style>"
   ]
  },
  {
   "cell_type": "markdown",
   "metadata": {},
   "source": [
    "> Pour voir le résultat du code **CSS** sur le **HTML** visé,  copier/coller le code suivant dans une cellule de type   **`Markdown`**, puis appuyer sur les touches **`<Maj+Entree>`**.\n",
    "**** \n",
    "````html\n",
    "<center>             \n",
    "    <table class=\"tg\">\n",
    "      <tr>\n",
    "        <th class=\"tg-sd90\">A</th>\n",
    "        <th class=\"tg-sd90\">B</th>\n",
    "        <th class=\"tg-sd90\">C</th>\n",
    "      </tr>\n",
    "      <tr>\n",
    "        <td class=\"tg-nyir\">a1</td>\n",
    "        <td class=\"tg-nyir\">b1</td>\n",
    "        <td class=\"tg-nyir\">c1</td>\n",
    "      </tr>\n",
    "      <tr>\n",
    "        <td class=\"tg-c9kt\">a2</td>\n",
    "        <td class=\"tg-c9kt\">b2</td>\n",
    "        <td class=\"tg-c9kt\">c2</td>\n",
    "      </tr>\n",
    "      <tr>\n",
    "        <td class=\"tg-nyir\">a3</td>\n",
    "        <td class=\"tg-nyir\">b3</td>\n",
    "        <td class=\"tg-nyir\">c3</td>\n",
    "      </tr>\n",
    "    </table>\n",
    "</center>\n",
    "````\n",
    "\n",
    "****"
   ]
  },
  {
   "cell_type": "raw",
   "metadata": {},
   "source": []
  },
  {
   "cell_type": "markdown",
   "metadata": {},
   "source": [
    "<h2 class=\"maClasse\">On peut alors réutiliser le style pour d'autres tableaux :</h2>\n",
    "<br>\n",
    "<center>             \n",
    "    <table class=\"tg\">\n",
    "      <tr>\n",
    "        <th class=\"tg-sd90\">Décimal</th>\n",
    "        <th class=\"tg-sd90\">Binaire</th>\n",
    "        <th class=\"tg-sd90\">Hexadécimal</th>\n",
    "        <th class=\"tg-sd90\">Décimal</th>\n",
    "        <th class=\"tg-sd90\">Binaire</th>\n",
    "        <th class=\"tg-sd90\">Hexadécimal</th>  \n",
    "      </tr>\n",
    "      <tr>\n",
    "        <td class=\"tg-nyir\">0</td>\n",
    "        <td class=\"tg-nyir\">0b0000</td>\n",
    "        <td class=\"tg-nyir\">0x0</td>\n",
    "        <td class=\"tg-nyir\">8</td>\n",
    "        <td class=\"tg-nyir\">0b1000</td>\n",
    "        <td class=\"tg-nyir\">0x8</td>  \n",
    "      </tr>\n",
    "      <tr>\n",
    "        <td class=\"tg-c9kt\">1</td>\n",
    "        <td class=\"tg-c9kt\">0b0001</td>\n",
    "        <td class=\"tg-c9kt\">0x1</td>\n",
    "        <td class=\"tg-c9kt\">9</td>\n",
    "        <td class=\"tg-c9kt\">0b1001</td>\n",
    "        <td class=\"tg-c9kt\">0x9</td>  \n",
    "      </tr>\n",
    "      <tr>\n",
    "        <td class=\"tg-nyir\">2</td>\n",
    "        <td class=\"tg-nyir\">0b0010</td>\n",
    "        <td class=\"tg-nyir\">0x2</td>\n",
    "        <td class=\"tg-nyir\">10</td>\n",
    "        <td class=\"tg-nyir\">0b1010</td>\n",
    "        <td class=\"tg-nyir\">0xA</td>  \n",
    "      </tr>\n",
    "      <tr>\n",
    "        <td class=\"tg-c9kt\">3</td>\n",
    "        <td class=\"tg-c9kt\">0b0011</td>\n",
    "        <td class=\"tg-c9kt\">0x3</td>\n",
    "        <td class=\"tg-c9kt\">11</td>\n",
    "        <td class=\"tg-c9kt\">0b1011</td>\n",
    "        <td class=\"tg-c9kt\">0xB</td>  \n",
    "      </tr>  \n",
    "      <tr>\n",
    "        <td class=\"tg-nyir\">4</td>\n",
    "        <td class=\"tg-nyir\">0b0100</td>\n",
    "        <td class=\"tg-nyir\">0x4</td>\n",
    "        <td class=\"tg-nyir\">12</td>\n",
    "        <td class=\"tg-nyir\">0b1100</td>\n",
    "        <td class=\"tg-nyir\">0xC</td>  \n",
    "      </tr>\n",
    "      <tr>\n",
    "        <td class=\"tg-c9kt\">5</td>\n",
    "        <td class=\"tg-c9kt\">0b0101</td>\n",
    "        <td class=\"tg-c9kt\">0x5</td>\n",
    "        <td class=\"tg-c9kt\">13</td>\n",
    "        <td class=\"tg-c9kt\">0b1101</td>\n",
    "        <td class=\"tg-c9kt\">0xD</td>  \n",
    "      </tr>\n",
    "      <tr>\n",
    "        <td class=\"tg-nyir\">6</td>\n",
    "        <td class=\"tg-nyir\">0b0110</td>\n",
    "        <td class=\"tg-nyir\">0x6</td>\n",
    "        <td class=\"tg-nyir\">14</td>\n",
    "        <td class=\"tg-nyir\">0b1110</td>\n",
    "        <td class=\"tg-nyir\">0xE</td>  \n",
    "      </tr>\n",
    "      <tr>\n",
    "        <td class=\"tg-c9kt\">7</td>\n",
    "        <td class=\"tg-c9kt\">0b0111</td>\n",
    "        <td class=\"tg-c9kt\">0x7</td>\n",
    "        <td class=\"tg-c9kt\">15</td>\n",
    "        <td class=\"tg-c9kt\">0b1111</td>\n",
    "        <td class=\"tg-c9kt\">0xF</td>  \n",
    "      </tr>\n",
    "    </table>\n",
    "</center>"
   ]
  },
  {
   "cell_type": "markdown",
   "metadata": {},
   "source": [
    "## Déclaration CSS en externe :\n",
    "\n",
    "Le défaut de la déclaration du CSS en interne est qu'il ne s'applique que sur la page dans laquelle il est défini.\n",
    "\n",
    "Il serait intéressant de pouvoir définir une feuille de style CSS commune à plusieurs carnets jupyter...\n",
    "\n",
    "Ici aussi, lorsque l'on souhaitera faire une simple modification dans le style, il suffira de la faire à un seul endroit pour qu'elle s'étende sur l'ensemble des bloc-notes qui s'y réfèrent.\n",
    "\n",
    "De plus on peut définir plusieurs feuilles de style différentes et choisir, au gré de nos envies, laquelle appliquée en ne changeant qu'une ligne de code...\n",
    "\n",
    "On va créer un fichier externe nommé ``monStyle.css`` qui contiendra notre déclaration de style telle que :\n",
    "```css\n",
    "h1 {\n",
    "  color: red;  \n",
    "}\n",
    "\n",
    "h2 {\n",
    "  color: green;  \n",
    "}\n",
    "\n",
    "p {\n",
    "  color: blue;\n",
    "}\n",
    "```\n",
    "Puis l'enregistrer dans le même dossier que ce notebook.\n",
    "\n",
    "Par ailleurs, nous allons utiliser deux autres feuilles de style disponibles sur le web :\n",
    "- https://ericecmorlaix.github.io/monStyle.css ;\n",
    "- https://ericecmorlaix.github.io/monAutreStyle.css.\n",
    "\n",
    "Pour appliquer le résultat du code **CSS** sur le **HTML** basculer le type de la cellule ci-dessous de **`Raw NBConvert`** en **`Markdown`**, et appuyer sur les touches **`<Maj+Entree>`**.\n",
    "\n",
    "Enfin exécuter successivement les trois cellules de codes suivantes..."
   ]
  },
  {
   "cell_type": "raw",
   "metadata": {},
   "source": [
    "<h1>Mon titre de niveau 1 :</h1>\n",
    "<h2>Mon titre de niveau 2 :</h2>\n",
    "<p>Mon paragraphe.</p>"
   ]
  },
  {
   "cell_type": "code",
   "execution_count": null,
   "metadata": {},
   "outputs": [],
   "source": [
    "%%html\n",
    "<link rel=\"stylesheet\" type=\"text/css\" href=\"monStyle.css\">"
   ]
  },
  {
   "cell_type": "code",
   "execution_count": null,
   "metadata": {},
   "outputs": [],
   "source": [
    "%%html\n",
    "<link rel=\"stylesheet\" type=\"text/css\" href=\"https://ericecmorlaix.github.io/monStyle.css\">"
   ]
  },
  {
   "cell_type": "code",
   "execution_count": null,
   "metadata": {},
   "outputs": [],
   "source": [
    "%%html\n",
    "<link rel=\"stylesheet\" type=\"text/css\" href=\"https://ericecmorlaix.github.io/monAutreStyle.css\">"
   ]
  },
  {
   "cell_type": "markdown",
   "metadata": {},
   "source": [
    "Jouer avec les flèches <button class='fa fa-arrow-up icon-arrow-up btn btn-xs btn-default'></button> <button class='fa fa-arrow-down icon-arrow-down btn btn-xs btn-default'></button> pour modifier l'ordre des cellules de code.\n",
    "> On observe que c'est toujours le style de la cellule la plus basse qui s'applique...\n",
    "\n",
    "> Rappel : pour revenir au style par défaut de l'environnement jupyter, il faut Redémarrer le Noyau & Effacer toutes les sorties (``Kernel > Restart & Clear Output``)."
   ]
  },
  {
   "cell_type": "markdown",
   "metadata": {},
   "source": [
    "## Complément avec la fonction HTML() de IPython.display :\n",
    "\n",
    "La fonction HTML() du module IPython.display permet d'afficher directement une chaine de caractères écrite en langage HTML. Cette chaine générée par un script Python peut inclure du CSS."
   ]
  },
  {
   "cell_type": "code",
   "execution_count": null,
   "metadata": {},
   "outputs": [],
   "source": [
    "from IPython.display import HTML\n",
    "\n",
    "enLigne = '<img src=\"https://ericecmorlaix.github.io/img/Jupyter_logo.svg\" style = \"display:inline-block\">'\n",
    "\n",
    "enBloc = '<img src=\"https://ericecmorlaix.github.io/img/Jupyter_logo.svg\">'\n",
    "\n",
    "chaine = '<center><br>' + enLigne * 8 + enBloc * 3 + '</center>'\n",
    "\n",
    "HTML(chaine)"
   ]
  },
  {
   "cell_type": "code",
   "execution_count": null,
   "metadata": {},
   "outputs": [],
   "source": [
    "from IPython.display import HTML\n",
    "from random import randint\n",
    "\n",
    "couleur=['red','blue','green', 'yellow', 'purple', 'pink', 'orange', 'cyan', 'magenta', 'nany', 'yellowgreen', 'lightcoral']\n",
    "\n",
    "chaine = ''\n",
    "\n",
    "for i in range(1,7) :\n",
    "    chaine = chaine + f'<h{i} style = \"color:{couleur[randint(0, len(couleur) - 1)]}; text-align:center;\">Mon titre de niveau {i}</h{i}>'\n",
    "\n",
    "HTML(chaine)"
   ]
  },
  {
   "cell_type": "markdown",
   "metadata": {
    "slideshow": {
     "slide_type": "slide"
    }
   },
   "source": [
    "## Ressources :"
   ]
  },
  {
   "cell_type": "markdown",
   "metadata": {
    "slideshow": {
     "slide_type": "fragment"
    }
   },
   "source": [
    "* Pour aller plus loin en HTML/CSS : http://api.si.lycee.ecmorlaix.fr/APprentissageHtmlCss/\n",
    "* Un site de référence pour le CSS : https://www.w3schools.com/css/default.asp\n",
    "* On peut très avantageusement utiliser un [générateur de feuille de style CSS](https://www.megaptery.com/2012/05/21-outils-generateurs-css-developpeurs-web.html)"
   ]
  },
  {
   "cell_type": "markdown",
   "metadata": {
    "slideshow": {
     "slide_type": "slide"
    }
   },
   "source": [
    "## A vous de jouer :"
   ]
  },
  {
   "cell_type": "raw",
   "metadata": {
    "collapsed": true,
    "slideshow": {
     "slide_type": "-"
    }
   },
   "source": []
  },
  {
   "cell_type": "markdown",
   "metadata": {
    "slideshow": {
     "slide_type": "slide"
    }
   },
   "source": [
    "***  \n",
    "\n",
    "> **Félicitations !** Vous êtes parvenu au bout des activités de ce bloc note.  \n",
    "> Vous êtes maintenant capable d'imposer votre style en **CSS** dans l'environnement interactif jupyter notebook.\n",
    "\n",
    "> Pour explorer plus avant d'autres fonctionnalités de jupyter notebook repassez par le [Sommaire](index.ipynb).\n",
    "\n",
    "***"
   ]
  },
  {
   "cell_type": "markdown",
   "metadata": {
    "slideshow": {
     "slide_type": "-"
    }
   },
   "source": [
    "<a rel=\"license\" href=\"http://creativecommons.org/licenses/by-sa/4.0/\"><img alt=\"Licence Creative Commons\" style=\"border-width:0\" src=\"https://i.creativecommons.org/l/by-sa/4.0/88x31.png\" /></a><br />Ce document est mis à disposition selon les termes de la <a rel=\"license\" href=\"http://creativecommons.org/licenses/by-sa/4.0/\">Licence Creative Commons Attribution -  Partage dans les Mêmes Conditions 4.0 International</a>.\n",
    "\n",
    "Pour toute question, suggestion ou commentaire : <a href=\"mailto:eric.madec@ecmorlaix.fr\">eric.madec@ecmorlaix.fr</a>"
   ]
  }
 ],
 "metadata": {
  "kernelspec": {
   "display_name": "Python 3",
   "language": "python",
   "name": "python3"
  },
  "language_info": {
   "codemirror_mode": {
    "name": "ipython",
    "version": 3
   },
   "file_extension": ".py",
   "mimetype": "text/x-python",
   "name": "python",
   "nbconvert_exporter": "python",
   "pygments_lexer": "ipython3",
   "version": "3.7.3"
  },
  "toc": {
   "base_numbering": 1,
   "nav_menu": {},
   "number_sections": true,
   "sideBar": true,
   "skip_h1_title": false,
   "title_cell": "Table of Contents",
   "title_sidebar": "Contents",
   "toc_cell": false,
   "toc_position": {},
   "toc_section_display": true,
   "toc_window_display": false
  },
  "varInspector": {
   "cols": {
    "lenName": 16,
    "lenType": 16,
    "lenVar": 40
   },
   "kernels_config": {
    "python": {
     "delete_cmd_postfix": "",
     "delete_cmd_prefix": "del ",
     "library": "var_list.py",
     "varRefreshCmd": "print(var_dic_list())"
    },
    "r": {
     "delete_cmd_postfix": ") ",
     "delete_cmd_prefix": "rm(",
     "library": "var_list.r",
     "varRefreshCmd": "cat(var_dic_list()) "
    }
   },
   "types_to_exclude": [
    "module",
    "function",
    "builtin_function_or_method",
    "instance",
    "_Feature"
   ],
   "window_display": false
  }
 },
 "nbformat": 4,
 "nbformat_minor": 2
}
