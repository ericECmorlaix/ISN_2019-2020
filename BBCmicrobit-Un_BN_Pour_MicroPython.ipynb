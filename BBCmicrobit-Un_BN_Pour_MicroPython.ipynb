{
 "cells": [
  {
   "cell_type": "markdown",
   "metadata": {},
   "source": [
    "# Un Bloc Note pour expérimenter MicroPython sur BBC micro:bit\n",
    "\n",
    "> Tout est dans le titre, il s'agit ici de découvrir l'ordinateur à carte unique (SBC, Single Board Computer) qu'est le BBC micro:bit et sa programmation en MicroPython, une adaptation de Python3 pour la programmation de certains microcontrôleurs...\n",
    "\n",
    "> Mais tout d'abord **félicitations** d'être déjà parvenu à ouvrir ce notebook, bientôt, si on en croit le slogan du site officiel de la [Microbit Educational Foundation](http://microbit.org/fr), vous serez \"créatif et connecté car vous alimenterez votre imagination avec du code\"...\n",
    "\n",
    "> Ce document est un notebook jupyter, pour bien vous familiariser avec cet environnement regardez cette rapide [Introduction](Introduction-Le_BN_pour_explorer.ipynb).  \n",
    "---"
   ]
  },
  {
   "cell_type": "markdown",
   "metadata": {},
   "source": [
    "# Mise en situation :\n",
    "\n",
    "<img src=\"https://ericecmorlaix.github.io/img/bbcmicrobit.gif\" width=\"50%\">\n",
    "\n",
    "\n",
    "## Kesako ? :\n",
    "\n",
    "BBC micro:bit est un mini-ordinateur programmable de poche (une carte à [microcontrôleur](https://fr.wikipedia.org/wiki/Microcontr%C3%B4leur)) conçu pour développer votre créativité avec la technologie.\n",
    "\n",
    "Ce petit appareil intègre beaucoup de fonctionnalités : il a 25 LED rouges qui peuvent afficher des messages, et deux boutons programmables pouvant être utilisés pour contrôler des jeux, ou, par exemple, faire une pause et sauter des chansons sur une liste de lecture ; le BBC micro:bit peut détecter le mouvement, la température, la luminosité, et vous dire dans quelle direction vous vous dirigez ; il peut aussi utiliser une connexion Bluetooth à faible énergie pour interagir avec d'autres appareils et Internet.\n",
    "\n",
    "Ce petit ordinateur possède la dernière technologie qui équipe les appareils modernes : téléphones mobiles, réfrigérateurs, montres intelligentes, alarmes antivol, robots, etc...\n",
    "\n",
    "Ainsi, il s'apparente à ce que l'on nomme l'Internet des objets : Internet of Things, abrégé IoT.\n",
    "\n",
    "Grâce à la connexion à l'IoT, nous pouvons interagir avec un large éventail de capteurs à travers le monde entier en temps réel et nous pouvons maintenant prendre des décisions intelligentes en utilisant nos appareils.\n",
    "\n",
    "Un micro:bit est à la fois autonome et extensible. En plus d'utiliser ses LED intégrées, boutons et capteurs, nous pouvons élargir sa gamme de fonctions en l'insérant dans un connecteur :\n",
    "\n",
    "<img src=\"https://ericecmorlaix.github.io/img/breadbit.png\" width=\"40%\">\n",
    "<center><figcaption><a href=\"https://www.proto-pic.co.uk/breadbit-prototyping-system-for-microbit.html\">bread:bit</a></figcaption></center>\n",
    "\n",
    "Donc finalement, micro:bit est tout ce que vous pouvez imaginer. Vous pouvez le transformer en votre dispositif de messagerie, console de jeu, vêtement intelligent, alarme antivol, contrôleur de maison intelligente...<br>\n",
    "\n",
    "A peu près tout ce que votre imagination peut créer en utilisant des capteurs supplémentaires, en réalisant un boitier ou un support pour la carte, et en programmant son microcontroleur.<br>\n",
    "\n",
    "## Origine :\n",
    "\n",
    "La BBC a initié en 2015 le projet Micro:bit, qui se veut être un nano-ordinateur à carte unique à processeur ARM destiné à l’éducation.\n",
    "\n",
    "L’objectif de cette dernière : fournir à chaque écolier de 12 ans (« year 7 ») un support amusant et facile à utiliser (*[Source : http://binaire.blog.lemonde.fr](http://binaire.blog.lemonde.fr/2017/01/09/bbc-microbit-quand-la-tele-britannique-promeut-la-creativite-informatique)*) :\n",
    "    \n",
    ">### Un peu d’histoire\n",
    ">Au début des années 80, le groupe de chaînes publiques au Royaume-Uni, la « British Broadcasting Corporation », dite BBC, lança un appel à projet pour créer un ordinateur éducatif à destination des écoliers et des écoles. Une jeune entreprise de Cambridge « Acorn » (« gland » en anglais) fut retenue pour créer cette plateforme. Le « BBC Micro » était né. Dans la même période, ici en France, nous avons connu une initiative comparable avec le Plan Informatique pour Tous basé sur des micro-ordinateurs Thomson MO5 et TO7.\n",
    "><img src=\"https://upload.wikimedia.org/wikipedia/commons/3/32/BBC_Micro_Front_Restored.jpg\" width=\"40%\">\n",
    "><center><figcaption><a href=\"https://en.wikipedia.org/wiki/BBC_Micro\">BBC Micro Model A/B (standard configuration)</a></figcaption></center>              \n",
    ">Plus récemment, quand les membres fondateurs du Raspberry Pi commencèrent à concrétiser leurs rêves d’un nano-ordinateur éducatif, ils voulurent y inscrire en guise de clin d’œil le label « BBC ». Ce droit ne leur fut pas octroyé ; néanmoins un journaliste high-tech de la célèbre « Corporation » sur son blog et sur la chaîne YouTube leur donna un coup de projecteur qui lancera le mouvement autour du Raspberry Pi.\n",
    ">            \n",
    ">### L’histoire se répète\n",
    ">\n",
    ">En 2012, trente ans plus tard, la BBC s’est « remis dans le bain » en lançant un objectif très ambitieux : envisager un « ordinateur de poche programmable permettant aux enfants d’explorer la créativité technologique ». Elle voulait formuler une réponse à la fracture numérique et aux lacunes perçues des compétences informatiques des citoyens. Dans l’environnement fertile des startups technologiques du Royaume Uni et inspiré par l’énergie des « makers » et « programmeurs » autour des cartes « hackables » comme l’Arduino, le Raspberry Pi, Beaglebone et bien d’autres, la BBC a de nouveau monté une initiative d’éducation numérique dans la continuité du projet « Make It Digital » (créer le numérique). Ils ont su rapidement rassembler une trentaine de partenaires et des industriels. Aujourd’hui, ces partenaires sont réunis dans la Fondation Micro:bit.\n",
    "\n"
   ]
  },
  {
   "cell_type": "markdown",
   "metadata": {},
   "source": [
    "# Programmation :\n",
    "Les deux outils de programmation en ligne qui sont soutenus par la fondation BBC micro:bit sont :\n",
    "\n",
    "- Le JavaScript Block Editor : https://makecode.microbit.org ;\n",
    "\n",
    "- Le Python Editor : http://python.microbit.org\n",
    "\n",
    "Vous éditez votre code à partir du site Web, vous le testez sur l’émulateur puis vous téléchargez le binaire (fichier.hex compilé à la demande) afin de programmer votre micro:bit. Et rien de complexe dans cette programmation : il suffit de brancher le câble USB à un ordinateur, et le micro:bit est reconnu comme une clef USB (stockage de masse). Une simple copie du fichier téléchargé sur ce support de stockage émulé suffit à déclencher la reprogrammation du micro:bit, qui se déconnectera automatiquement et lancera votre code. On ne peut plus simple...\n",
    "\n",
    "Il existe de nombreuses solutions pour programmer une carte BBC micro:bit. Celles que nous allons explorer dans la suite de ce bloc-note sont celles basées sur [MicroPython](https://github.com/micropython) une version allégée de Python créée par [Damien George](https://github.com/dpgeorge) pour la programmation de certains microcontôleurs dont celui du BBC micro:bit.\n",
    "> Le [code source du compilateur MicroPython pour BBC micro:bit](https://github.com/bbcmicrobit/micropython) a été réalisé par [des personnes bénévoles](https://github.com/bbcmicrobit/micropython/graphs/contributors) du monde entier, sous la direction de [Damien George](https://github.com/dpgeorge), [Nicholas Tollervey](https://github.com/ntoll) et [Carlos Pereira Atencio](https://github.com/microbit-carlos)...\n",
    "## Hello World :\n",
    "\n",
    "Le premier programme que réalise tout apprenti informaticien est le fameux [Hello World!](https://fr.wikipedia.org/wiki/Hello_world)... Celà permet avec un programme minimal de prendre en main un langage et surtout de s'assurer du bon fonctionnement de l'environnement de développement choisi [IDE](https://fr.wikipedia.org/wiki/Environnement_de_d%C3%A9veloppement).\n",
    " \n",
    "<img src=\"https://ericecmorlaix.github.io/img/microbit-plugged-in.gif\" width=\"30%\" >            \n",
    "\n",
    "Au moyen du câble fourni, raccordez la carte BBC micro:bit sur un port USB de l'ordinateur. Le PC doit reconnaitre la carte comme un nouveau lecteur nommé : MICROBIT (E:)\n",
    "<img src=\"https://ericecmorlaix.github.io/img/MICROBIT(E).png\" width=\"80%\" >            \n",
    "\n",
    "## Avec l'éditeur Python micro:bit en ligne :\n",
    "\n",
    "Cliquer sur ce lien pour ouvrir l'éditeur : https://python.microbit.org/\n",
    "\n",
    "A l'ouverture de la page, un code de \"Hello World\" est proposé par défaut :\n",
    "<img src=\"https://ericecmorlaix.github.io/img/editeurPythonmicrobit.png\" width=\"50%\" >\n",
    "\n",
    "Cliquer sur le bouton `Download` pour télécharger un fichier `microbit.hex`\n",
    "\n",
    "Glisser/déposer le fichier avec l'extension  `.hex` depuis le dossier `Téléchargements` vers le dossier `MICROBIT(E:)`\n",
    "> On peut aussi faire un clic-droit sur le fichier dans le dossier `Téléchargements` et choir `Envoyer vers>MICROBIT(E:)`.\n",
    "\n",
    "<img src=\"https://ericecmorlaix.github.io/img/transfert.png\" width=\"80%\" >\n",
    "\n",
    "Dès que la LED jaune située à l'arrière de la carte aura fini de clignoter, observer le résultat de votre programme.\n",
    "\n",
    "Pour revoir le résultat de votre programme une nouvelle fois, il faut redémarrer le BBC micro:bit en appuyant sur le bouton `RESET` situé à l'arrière de la carte.\n",
    "\n",
    "A vous de coder maintenant, modifier le programme de base et tester vos modifications, essayer encore autre chose...\n",
    "\n",
    "Par exemple, expliquez ci-dessous ce que permet le bouton `Snippets` ?\n",
    "\n",
    "Besoin d'aide ? il faut cliquer sur le bouton `Help` et choisir :\n",
    "- [`Help`](https://python-editor-1-1-2.microbit.org/help.html) pour obtenir de l'aide sur cet éditeur ;\n",
    "- [`Documentation`](https://microbit-micropython.readthedocs.io) pour obtenir de l'aide sur MicroPython pour le BBC micro:bit."
   ]
  },
  {
   "cell_type": "markdown",
   "metadata": {},
   "source": [
    "## Avec l'éditeur Mu\n",
    "\n",
    "\n",
    "A partir de Cortana, rechercher et lancer l'application de bureau `Mu`, au démarage choisir le mode `BBC micro:bit`\n",
    "\n",
    "Par rapport à l'éditeur en ligne, cette application offre des fonctionnalités supplémentaires très intéressantes accessibles par ces quatres boutons :\n",
    "\n",
    "<img src=\"https://codewith.mu/img/en/tutorials/microbit_buttons.png\" alt=\"Boutons de Mu pour micro:bit\" width=22%>\n",
    "\n",
    "**Remarque** : ces boutons ne fonctionnent que s'il y a une carte BBC micro:bit connectée par un câble USB au PC.\n",
    "\n",
    "Ces fonctions sont exposées dans ce rapide tutoriel : https://codewith.mu/en/tutorials/1.0/microbit\n",
    "\n",
    "Cliquer sur le bouton “Flash” permet en quelques secondes de téléverser votre code dans la mémoire flash du µC du BBC micro:bit en effaçant et remplaçant le programme précédent. En cas d'erreur dans votre code un message défilera sur la matrice à LED.\n",
    "\n",
    "<img src=\"https://codewith.mu/img/en/tutorials/microbit_flash.gif\" alt=\"Boutons de Mu pour micro:bit\" width=88%>\n",
    "\n",
    "Lorsqu'un programme MicroPython est téléversé dans un BBC micro:bit, il dispose d’un répertoire permettant de stocker des fichiers. Le bouton «Fichiers» de Mu facilite l’accès, la mise en place, la récupération et la suppression de fichiers sur votre appareil.\n",
    "\n",
    "Comme indiqué ci-dessous, cliquer sur «Fichiers» ouvre deux panneaux entre l’éditeur de texte et le pied de page de Mu. Le volet de gauche répertorie tous les fichiers du dossier BBC micro:bit, le volet de droite répertorie tous les fichiers de votre répertoire `mu_code` sur votre ordinateur. Faites glisser les fichiers de l'un à l'autre pour les copier. Pour supprimer un fichier sur le BBC micro:bit, cliquez dessus avec le bouton droit de la souris et sélectionnez «Supprimer».\n",
    "\n",
    "<img src=\"https://codewith.mu/img/en/tutorials/microbit_files.gif\" alt=\"Boutons de Mu pour micro:bit\" width=88%>\n",
    "\n",
    "**Remarque** : cette fonction n'est disponible que si vous avez préalablement chargé un fichier en MicroPython sur la carte.\n",
    "\n",
    "Le bouton «REPL» crée un nouveau volet entre l’éditeur de texte et le pied de page de Mu, qui se connecte à l'interpréteur MicroPython du périphérique BBC micro:bit. Le terme “REPL” est un acronyme et signifie “Lire, Évaluer, Imprimer, Boucler”, (Read-Evaluate-Print-Loop), ce qui décrit succinctement ce que le panneau fait pour vous. Il lit les instructions de Python que vous tapez, évalue leur signification, affiche le résultat obtenu, puis effectue une boucle pour attendre votre prochaine instruction Python.\n",
    "\n",
    "<img src=\"https://codewith.mu/img/en/tutorials/microbit_repl.gif\" alt=\"Boutons de Mu pour micro:bit\" width=88%>\n",
    "\n",
    "Comme vous pouvez le constater dans l'exemple ci-dessus, utiliser le REPL de MicroPython revient à avoir une conversation avec le BBC micro:bit en Python. Tout ce que vous pouvez faire dans un script Python classique, vous pouvez le faire dans le REPL. C’est une façon amusante d’explorer de façon ludique les capacités de MicroPython sur le BBC micro:bit.\n",
    "\n",
    "**C'est donc le moment d'essayer des choses... Par exemple, commencez par taper `help()`dans le REPL de l'éditeur Mu et laissez-vous guider par les propositions suggérées là... Saurez-vous y découvrir le Zen de MicroPython ?**\n",
    "\n",
    "> ##### Gestion du temps :\n",
    "> - http://www.multiwingspan.co.uk/micro.php?page=timing\n",
    "> - https://microbit-micropython.readthedocs.io/en/v1.0.1/microbit.html#microbit.sleep\n",
    "> - https://microbit-micropython.readthedocs.io/en/v1.0.1/utime.html\n",
    "\n",
    "Enfin, le bouton \"Plot\" ouvre le traceur de Mu. Si votre BBC micro:bit produit des tuples de nombres via la connexion série, le traceur les affiche sous forme de graphique. Ceci est extrêmement utile pour visualiser les données que vous pourriez mesurer via le BBC micro:bit. Pour plus d’informations à ce sujet, lisez [le tutoriel sur le traceur de Mu](https://codewith.mu/en/tutorials/1.0/plotter).\n",
    "\n",
    "<img src=\"https://codewith.mu/img/en/tutorials/microbit_plotter.gif\" alt=\"Boutons de Mu pour micro:bit\" width=88%>\n",
    "\n",
    "\n",
    "Le site de l'éditeur Mu : http://codewith.mu et son dépot GitHub : https://github.com/mu-editor/mu"
   ]
  },
  {
   "cell_type": "markdown",
   "metadata": {},
   "source": [
    "# Communication avec le REPL,  l'interpréteur Python embarqué d'un BBC micro:bit :\n",
    "\n",
    "Nous allons faire fonctionner la carte BBC micro:bit directement depuis son interpréteur Python via une communication série depuis un PC.\n",
    "\n",
    "## Dans un terminal avec PuTTY  :\n",
    "Sur un PC Windows 10, faire un clic droit sur le menu `démarrer` et choisir `Gestionnaire de périphériques`, dérouler la liste des `Ports (COM et LPT)`, brancher et/ou débrancher le BBC micro:bit pour repérer sur quel numéro de COM est connectée votre carte.\n",
    "\n",
    "<img src=\"https://ericecmorlaix.github.io/img/W10-Gestionnaire00.png\" alt=\"Gestionnaire de périphériques\" width=30%>\n",
    "\n",
    "A partir de Cortana, rechercher et lancer l'application de bureau `PuTTY`. Choisir une connection de type `Serial` (Série), saisir le numéro du port COM de vore carte et régler la vitesse de communication à 115200 bauds (bits/seconde) puis cliquer sur le bouton `Open` pour ouvrir la connection et établir la communication entre le PC et le BBC micro:bit.\n",
    "\n",
    "<img src=\"https://ericecmorlaix.github.io/img/W10-PuTTY00.png\" alt=\"application de bureau PuTTY\" width=40%>\n",
    "\n",
    "Un fenêtre de terminal s'ouvre. Après avoir appuyé sur la touche `Entrée`de votre clavier,  Les trois chevrons `>>>` d'un interpréteur python doivent apparaitre :\n",
    "\n",
    "<img src=\"https://ericecmorlaix.github.io/img/W10-PuTTY01.png\" alt=\"fenêtre de terminal\" width=40%>\n",
    "\n",
    "Saisir alors quelques instructions en Python, et d'autre en microPython de la bibliothèque microbit...\n",
    "\n",
    "Ce qu'il faut bien comprendre ici, c'est que ces instructions ne s'exécutent pas sur votre PC mais à l'autre bout du câble USB dans le processeur (CPU) du micro-contrôleur (µC) de la carte BBC micro:bit.\n",
    "\n",
    "Génial, votre BBC micro:bit sait donc calculer, en fait, il sait faire à peu près tout ce qu'un programmme Python peut faire dans les limites de ses capacités de mémoire, 256 ko de mémoire stockage ([Flash](https://fr.wikipedia.org/wiki/M%C3%A9moire_flash)) plus 16 ko de mémoire vive ([RAM](https://fr.wikipedia.org/wiki/M%C3%A9moire_vive), Random Access Memory), et à la vitesse de 16 Mhz, sa fréquence d'horloge...\n",
    "\n",
    "Essayer des choses un peu plus évoluées, par exemple, définir une fonction telle que :\n",
    "\n",
    "````python\n",
    "def maFonction():\n",
    "    while True:\n",
    "        if button_a.is_pressed():\n",
    "            display.show(Image.HAPPY)\n",
    "        elif button_b.is_pressed():\n",
    "            break\n",
    "        else:\n",
    "            display.show(Image.SAD)\n",
    "    display.clear()\n",
    "````\n",
    "> **Rappel** : la touche `Tab` permet de faire de l'auto-complétion, saisir `d` suivi d'un `Tab` produit `display`...\n",
    "\n",
    "Revenir aux trois chevrons `>>>` en appuyant quatre fois sur `Entrée`, puis appeler votre fonction et tester votre programme...\n",
    "\n",
    "> Observer la réaction de la LED orange située à l'arrière du BBC micro:bit à chaque saisie d'un caractère dans la fenêtre de l'interpréteur... On devine le fonctionnement de la communication du PC vers le BBC micro:bit, c'est celle qu'utilise la fonctionnalité REPL dans l'éditeur Mu...\n",
    "\n",
    "<!-- \n",
    "    Pour en savoir plus à ce sujet :\n",
    "- Communication point à point de type RS232 et décodage d'une trame\n",
    "- essayer avec l'application Tera Term et se questionner sur la configuration du port série en baud rate of 115200, data 8 bits, parity none, stop 1 bit.\n",
    "- https://microbit-micropython.readthedocs.io/en/v1.0.1/devguide/repl.html \n",
    "-->"
   ]
  },
  {
   "cell_type": "markdown",
   "metadata": {},
   "source": [
    "## Dans les cellules de code d'un jupyter notebook :\n",
    "\n",
    "Pour tester directement depuis les cellules de ce bloc-note il vous faut démarrer un serveur jupyter notebook en local sur votre PC pour y ouvrir une copie de ce document.\n",
    "\n",
    "Dans le menu choisir `Kernel>Change Kernel>micro:bit`. Ce noyau est normalement disponible sur les PCs Windows 10 du labo de SI du lycée, si ce n'est pas votre cas, il suffit de suivre la procédure à cette adresse : https://github.com/takluyver/ubit_kernel\n",
    "\n",
    "On peut alors faire un premier test par exemple :"
   ]
  },
  {
   "cell_type": "code",
   "execution_count": 1,
   "metadata": {},
   "outputs": [
    {
     "ename": "AttributeError",
     "evalue": "'function' object has no attribute 'scroll'",
     "output_type": "error",
     "traceback": [
      "\u001b[1;31m---------------------------------------------------------------------------\u001b[0m",
      "\u001b[1;31mAttributeError\u001b[0m                            Traceback (most recent call last)",
      "\u001b[1;32m<ipython-input-1-715d8f4026f1>\u001b[0m in \u001b[0;36m<module>\u001b[1;34m()\u001b[0m\n\u001b[1;32m----> 1\u001b[1;33m \u001b[0mdisplay\u001b[0m\u001b[1;33m.\u001b[0m\u001b[0mscroll\u001b[0m\u001b[1;33m(\u001b[0m\u001b[1;34m'Test'\u001b[0m\u001b[1;33m)\u001b[0m\u001b[1;33m\u001b[0m\u001b[1;33m\u001b[0m\u001b[0m\n\u001b[0m",
      "\u001b[1;31mAttributeError\u001b[0m: 'function' object has no attribute 'scroll'"
     ]
    }
   ],
   "source": [
    "display.scroll('Test')"
   ]
  },
  {
   "cell_type": "markdown",
   "metadata": {},
   "source": [
    "> Si cela fonctionne, c'est parfait vous pouvez poursuive...\n",
    ">\n",
    "> Si ce n'est pas le cas, alors vérifiez que rien n'empêche la communication série vers votre BBC micro:bit :\n",
    "- la carte est bien branchée par un cordon en USB (la LED orange située à l'arrière du BBC micro:bit est allumée) ;\n",
    "- l'éditeur Mu (surtout sa fonction REPL) est désactivé ;\n",
    "- la précédente communication avec PuTTY est bien arrêtée, sinon fermer la fenêtre PuTTY ;\n",
    "- il n'y a qu'un bloc-note ouvert avec le noyau micro:bit... \n",
    "\n",
    "Tout va bien, alors essayez maintenant avec la précédente boucle :"
   ]
  },
  {
   "cell_type": "code",
   "execution_count": null,
   "metadata": {},
   "outputs": [],
   "source": [
    "while True:\n",
    "    if button_a.is_pressed():\n",
    "        display.show(Image.HAPPY)\n",
    "    elif button_b.is_pressed():\n",
    "        display.scroll(\"kenavo\")\n",
    "        break\n",
    "    else:\n",
    "        display.show(Image.SAD)\n",
    "display.clear()"
   ]
  },
  {
   "cell_type": "markdown",
   "metadata": {},
   "source": [
    "> **Faire un `break`** :\n",
    ">\n",
    "> Tant qu'une cellule de code est en cours d'exécution on voit `In[*] :` sur sa gauche. Une fois l'exécution du code terminée, l'`*` est remplacé par un nombre indiquant l'ordre dans lequel les cellules du notebook se sont exécutées.\n",
    ">\n",
    "> Changer l'ordre d'exécution des cellules revient à changer l'ordres des instructions d'un script Python. Celà peut-être intéressant dans certaines situations de développement pour essayer des choses, mais celà peut quelques fois conduire à des résultats inattendus...\n",
    ">\n",
    "> Pour interrompre l'exécution d'une cellule de code il faut choisir `Interrupt` dans le menu `Kernel` ou cliquer sur le bouton <button class='fa fa-stop icon-stop btn  btn-xs btn-default'></button>.\n",
    ">\n",
    "> Mais le problème dans un jupyter notebook avec les boucles infinis telle que `while True:`c'est que l'`*` pourrait ne jamais être remplacé par un nombre, et recourrir à l'interruption du noyau n'est pas très judicieux dans ce cas.\n",
    ">\n",
    "> La solution la plus élégante est d'introduire dans le code une instruction de `break` qui fait sortir de la boucle et donc permet d'atteindre ici la fin du programme lorsque l'on reste appuyer sur le boutton `b`."
   ]
  },
  {
   "cell_type": "markdown",
   "metadata": {},
   "source": [
    "Essayez encore autre chose avant de poursuivre, de façon assurément zen, votre exploration par un tour d'horizon de quelques fonctionnalités du BBC micro:bit..."
   ]
  },
  {
   "cell_type": "code",
   "execution_count": null,
   "metadata": {},
   "outputs": [],
   "source": [
    "import this"
   ]
  },
  {
   "cell_type": "code",
   "execution_count": null,
   "metadata": {},
   "outputs": [],
   "source": [
    "help()"
   ]
  },
  {
   "cell_type": "markdown",
   "metadata": {},
   "source": [
    "# Inventaire de fonctions du BBC micro:bit :\n",
    "\n",
    "## Afficheur, sortie sur matrice de 5x5 LEDs :\n",
    "\n",
    "<img src=\"https://microbit.org/images/beating-heart.gif\" alt=\"Matrice de 25 LEDs\" width=40%>\n",
    "Essayer :"
   ]
  },
  {
   "cell_type": "code",
   "execution_count": null,
   "metadata": {},
   "outputs": [],
   "source": [
    "while True:\n",
    "    display.set_pixel(2, 2, 9)\n",
    "    sleep(500)\n",
    "    display.set_pixel(2, 2, 0)\n",
    "    sleep(500)\n",
    "    if button_b.is_pressed():\n",
    "        display.scroll(\"kenavo\")\n",
    "        break"
   ]
  },
  {
   "cell_type": "markdown",
   "metadata": {},
   "source": [
    "### display\n",
    "Nous avons précédemmment utilisé les fonctions `display.scroll()` et `display.show()`.\n",
    "Exécuter les instructions suivantes pour découvrir plus avant le module display :"
   ]
  },
  {
   "cell_type": "code",
   "execution_count": null,
   "metadata": {},
   "outputs": [],
   "source": [
    "help(display)"
   ]
  },
  {
   "cell_type": "code",
   "execution_count": null,
   "metadata": {},
   "outputs": [],
   "source": [
    "print(dir(display))"
   ]
  },
  {
   "cell_type": "markdown",
   "metadata": {},
   "source": [
    "Dans la cellule suivante, placer le curseur après le `d` et appuyer sur la touche `Tab`. Ensuite, ajouter un point `.` après `display` et choisir `set_pixel` dans la liste déroulante puis faire `Ctrl+Entrée`"
   ]
  },
  {
   "cell_type": "code",
   "execution_count": null,
   "metadata": {},
   "outputs": [],
   "source": [
    "help(d)"
   ]
  },
  {
   "cell_type": "markdown",
   "metadata": {},
   "source": [
    "Modifier le programme précédent pour faire clignoter la LED du coin suppérieur gauche de la matrice ([Guide pour matrice à LED](https://microbit.org/guide/hardware/leds/)). "
   ]
  },
  {
   "cell_type": "code",
   "execution_count": null,
   "metadata": {},
   "outputs": [],
   "source": [
    "while True:\n",
    "    display.set_pixel(2, 2, 9)\n",
    "    sleep(500)\n",
    "    display.set_pixel(2, 2, 0)\n",
    "    sleep(500)\n",
    "    if button_b.is_pressed():\n",
    "        display.scroll(\"kenavo\")\n",
    "        break"
   ]
  },
  {
   "cell_type": "markdown",
   "metadata": {},
   "source": [
    "#### Introduisons un peu d'aléatoire :\n",
    "Importer le module `random` de MicroPython et rechercher la fonction qui vous permettrait de modifier le précédent programme de sorte qu'à chaque seconde l'une ou l'autre des LED de la matice s'allume progressivement puis brusquement s'éteigne avant qu'une nouvelle LED ne s'allume et ainsi de suite..."
   ]
  },
  {
   "cell_type": "code",
   "execution_count": null,
   "metadata": {},
   "outputs": [],
   "source": [
    "import random\n",
    "help(random)"
   ]
  },
  {
   "cell_type": "code",
   "execution_count": null,
   "metadata": {},
   "outputs": [],
   "source": [
    "while True:\n",
    "    display.set_pixel(2, 2, 9)\n",
    "    sleep(500)\n",
    "    display.set_pixel(2, 2, 0)\n",
    "    sleep(500)\n",
    "    if button_b.is_pressed():\n",
    "        display.scroll(\"kenavo\")\n",
    "        break"
   ]
  },
  {
   "cell_type": "markdown",
   "metadata": {},
   "source": [
    "> ##### Gestion du hasard :\n",
    "> - https://microbit-micropython.readthedocs.io/fr/latest/tutorials/random.html\n",
    "> - https://microbit-micropython.readthedocs.io/en/v1.0.1/random.html"
   ]
  },
  {
   "cell_type": "markdown",
   "metadata": {},
   "source": [
    "### Image :\n",
    "Explorer la classe `Image`"
   ]
  },
  {
   "cell_type": "code",
   "execution_count": null,
   "metadata": {},
   "outputs": [],
   "source": [
    "help(Image)"
   ]
  },
  {
   "cell_type": "code",
   "execution_count": null,
   "metadata": {},
   "outputs": [],
   "source": [
    "print(dir(Image))"
   ]
  },
  {
   "cell_type": "code",
   "execution_count": null,
   "metadata": {},
   "outputs": [],
   "source": [
    "monImage = Image(\n",
    "    '33333:'\n",
    "    '36663:'\n",
    "    '36963:'\n",
    "    '36663:'\n",
    "    '33333:')\n",
    "\n",
    "display.show(monImage)"
   ]
  },
  {
   "cell_type": "markdown",
   "metadata": {},
   "source": [
    "Essayer d'afficher autre chose sur la matrice à LED du BBC micro:bit :\n",
    "- https://microbit-micropython.readthedocs.io/fr/latest/tutorials/images.html\n",
    "- http://www.multiwingspan.co.uk/micro.php?page=pyled\n",
    "- https://microbit-micropython.readthedocs.io/en/v1.0.1/image.html\n",
    "- https://microbit-micropython.readthedocs.io/en/v1.0.1/display.html\n"
   ]
  },
  {
   "cell_type": "markdown",
   "metadata": {},
   "source": [
    "## Détection d'une entrée TOR : boutons , touches, ... :\n",
    "\n",
    "### Boutons poussoirs\n",
    "\n",
    "<img src=\"https://microbit.org/images/microbit-features-buttons.png\" alt=\"Boutons A et B\" width=40%>\n",
    "\n",
    "La carte BBC micro:bit dispose, sur sa face avant, de deux boutons poussoir repérés par les lettres A et B.\n",
    "\n",
    "Nous avons précédemmment utilisé les fonctions `button_a.is_pressed()` et `button_b.is_pressed()`.\n",
    "Exécuter les instructions suivantes pour découvrir plus avant la classe `button` :"
   ]
  },
  {
   "cell_type": "code",
   "execution_count": null,
   "metadata": {},
   "outputs": [],
   "source": [
    "help(button_a)"
   ]
  },
  {
   "cell_type": "code",
   "execution_count": null,
   "metadata": {},
   "outputs": [],
   "source": [
    "print(dir(button_a))"
   ]
  },
  {
   "cell_type": "markdown",
   "metadata": {},
   "source": [
    "### Touches\n",
    "\n",
    "<img src=\"https://microbit.org/images/microbit-features-pins.png\" alt=\"Touches 0,1,2\" width=40%>\n",
    "\n",
    "Il y a 25 connecteurs en cuivre sur la tranche du bas de la carte BBC micro:bit. Ce sont des Entrées/Sorties qui permettent au micro:bit d'interagir avec son environnement en s'y connectant physiquement.\n",
    "Les trois grandes broches (pin) repérées 0, 1, 2 sont sensibles à un changement de capacité provoqué au contact d'un doigt.\n",
    "\n",
    "> Normalement ces touches capacitives devraient réagir au conctact de votre doigt, mais pour plus d'efficaccité le plus sûr est de raccorder un bout d'un câble à pince crocodile au `GND` et avec l'autre bout de venir toucher la broche `0`.\n",
    "\n",
    "Essayer avec ce code par exemple :"
   ]
  },
  {
   "cell_type": "code",
   "execution_count": null,
   "metadata": {},
   "outputs": [],
   "source": [
    "from microbit import *\n",
    "\n",
    "nombreDeTouches = 0\n",
    "\n",
    "while True:\n",
    "    if pin0.is_touched():\n",
    "        nombreDeTouches += 1\n",
    "        display.scroll(str(nombreDeTouches))\n",
    "    elif button_b.is_pressed():\n",
    "        display.scroll(\"kenavo\")\n",
    "        break  "
   ]
  },
  {
   "cell_type": "markdown",
   "metadata": {},
   "source": [
    "Dans ce code, expliquer ce qu'est `nombreDeTouches` et ce que font l'opérateur `+=` et la fonction `str()` :\n",
    "- `nombreDeTouches` est...\n",
    "- `+=` sert à...\n",
    "- `str()` permet de..."
   ]
  },
  {
   "cell_type": "markdown",
   "metadata": {},
   "source": [
    "### Opérateurs Booléens :\n",
    "Avec les deux entrées TOR (Tout Ou Rien), le bouton A, le bouton B, qui ne peuvent prendre chacun que deux valeurs booléennes `False = 0` `True = 1` nous pouvons programmer et tester des fonctions de logique booléenne.\n",
    "#### Fontion ET :\n",
    "Par exemple, essayer avec la fonction dont l'[expression booléenne](https://fr.wikipedia.org/wiki/Expression_bool%C3%A9enne_(programmation_informatique)) serait `A et B`,   :\n",
    "> En Python l'opérateur booléen pour le ET est le mot clé `and`"
   ]
  },
  {
   "cell_type": "code",
   "execution_count": null,
   "metadata": {},
   "outputs": [],
   "source": [
    "while True:\n",
    "    if (button_a.is_pressed() and button_b.is_pressed()):\n",
    "        display.show(Image.YES)\n",
    "    else:\n",
    "        display.show(Image.NO)\n",
    "        \n",
    "    if pin0.is_touched():\n",
    "        display.scroll(\"kenavo\")\n",
    "        break\n",
    "display.clear()"
   ]
  },
  {
   "cell_type": "markdown",
   "metadata": {},
   "source": [
    "Compléter alors la table de véritée de la fonction logique **ET**, d'équation $A\\cdot B$ :\n",
    "\n",
    "|  A  |  B  | ET  |\n",
    "|:---:|:---:|:---:|\n",
    "|  0  |  0  |     |\n",
    "|  0  |  1  |     |\n",
    "|  1  |  0  |     |\n",
    "|  1  |  1  |     |\n",
    "\n",
    "#### Fontion OU :\n",
    "Programmer la fonction dont l'[expression booléenne](https://fr.wikipedia.org/wiki/Expression_bool%C3%A9enne_(programmation_informatique)) serait `A ou B`,   :\n",
    "> En Python l'opérateur booléen pour le OU est le mot clé `or`"
   ]
  },
  {
   "cell_type": "code",
   "execution_count": null,
   "metadata": {},
   "outputs": [],
   "source": [
    "while True:\n",
    "    if (button_a.is_pressed() or button_b.is_pressed()):\n",
    "        display.show(Image.YES)\n",
    "    else:\n",
    "        display.show(Image.NO)\n",
    "        \n",
    "    if pin0.is_touched():\n",
    "        display.scroll(\"kenavo\")\n",
    "        break\n",
    "display.clear()"
   ]
  },
  {
   "cell_type": "markdown",
   "metadata": {},
   "source": [
    "Compléter alors la table de véritée de la fonction logique **OU**, d'équation $A + B$ :\n",
    "\n",
    "|  A  |  B  | OU  |\n",
    "|:---:|:---:|:---:|\n",
    "|  0  |  0  |     |\n",
    "|  0  |  1  |     |\n",
    "|  1  |  0  |     |\n",
    "|  1  |  1  |     |\n",
    "\n",
    "#### Fontion NON :\n",
    "Programmer la fonction dont l'[expression booléenne](https://fr.wikipedia.org/wiki/Expression_bool%C3%A9enne_(programmation_informatique)) serait `non A`,   :\n",
    "> En Python l'opérateur booléen pour le NON est le mot clé `not`\n"
   ]
  },
  {
   "cell_type": "markdown",
   "metadata": {},
   "source": [
    "Compléter alors la table de véritée de la fonction logique **NON**, d'équation $\\bar{A}$ :\n",
    "\n",
    "|  A  | NON |\n",
    "|:---:|:---:|\n",
    "|  0  |     |\n",
    "|  1  |     |\n",
    "\n"
   ]
  },
  {
   "cell_type": "code",
   "execution_count": null,
   "metadata": {},
   "outputs": [],
   "source": [
    "while True:\n",
    "    if (button_a.is_pressed() and button_b.is_pressed()):\n",
    "        display.show(Image.YES)\n",
    "    else:\n",
    "        display.show(Image.NO)\n",
    "        \n",
    "    if pin0.is_touched():\n",
    "        display.scroll(\"kenavo\")\n",
    "        break\n",
    "display.clear()"
   ]
  },
  {
   "cell_type": "markdown",
   "metadata": {},
   "source": [
    "Programmer chacune à leur tour les expressions booléennes suivantes et commpléter leur table de vérité respective :\n",
    "- `non (A et B)`\n",
    "\n",
    "|  A  |  B  |  ?  |\n",
    "|:---:|:---:|:---:|\n",
    "|  0  |  0  |     |\n",
    "|  0  |  1  |     |\n",
    "|  1  |  0  |     |\n",
    "|  1  |  1  |     |\n",
    "\n",
    "- `non (A ou B)`\n",
    "\n",
    "|  A  |  B  |  ?  |\n",
    "|:---:|:---:|:---:|\n",
    "|  0  |  0  |     |\n",
    "|  0  |  1  |     |\n",
    "|  1  |  0  |     |\n",
    "|  1  |  1  |     |\n",
    "\n",
    "\n",
    "- `non A et non B`\n",
    "\n",
    "|  A  |  B  |  ?  |\n",
    "|:---:|:---:|:---:|\n",
    "|  0  |  0  |     |\n",
    "|  0  |  1  |     |\n",
    "|  1  |  0  |     |\n",
    "|  1  |  1  |     |\n",
    "\n",
    "\n",
    "- `non A ou non B`\n",
    "\n",
    "|  A  |  B  |  ?  |\n",
    "|:---:|:---:|:---:|\n",
    "|  0  |  0  |     |\n",
    "|  0  |  1  |     |\n",
    "|  1  |  0  |     |\n",
    "|  1  |  1  |     |\n",
    "\n",
    "\n",
    "Tel [De Morgan](https://fr.wikipedia.org/wiki/Lois_de_De_Morgan), que concluez-vous ? Proposez alors un nom pour ces fonctions...\n",
    "\n",
    "Compléter la table de vérité et programmer le fonctionnement d'un éclairage par va et vient dont l'équation serait : $$ L =\\bar{A}\\cdot B+A\\cdot\\bar{B}$$\n",
    "\n",
    "|  A  |  B  |  ?  |\n",
    "|:---:|:---:|:---:|\n",
    "|  0  |  0  |     |\n",
    "|  0  |  1  |     |\n",
    "|  1  |  0  |     |\n",
    "|  1  |  1  |     |\n",
    "\n",
    "Comment nommerait-on une telle fonction booléenne ?"
   ]
  },
  {
   "cell_type": "markdown",
   "metadata": {},
   "source": [
    "Plus d'informations sur les boutons et les touches :\n",
    "- https://microbit-micropython.readthedocs.io/fr/latest/tutorials/buttons.html\n",
    "- http://www.multiwingspan.co.uk/micro.php?page=pybutton\n",
    "- https://microbit-micropython.readthedocs.io/en/v1.0.1/button.html\n",
    "- https://microbit-micropython.readthedocs.io/fr/latest/tutorials/io.html\n",
    "- http://www.multiwingspan.co.uk/micro.php?page=pytouch\n",
    "- https://microbit-micropython.readthedocs.io/en/v1.0.1/pin.html"
   ]
  },
  {
   "cell_type": "markdown",
   "metadata": {},
   "source": [
    "### Autres entrées digitales :\n",
    "\n",
    "Nous avons déjà utilisé plus haut les boutons et les touches 0, 1, 2 en tant qu'entrée TOR (Tout Ou Rien). Le BBC micro:bit permet d'utiliser d'autres broches en tant qu'entrée binaire avec l'instruction `pinN.read_digital()` le N pouvant être remplacé par les numéros des broches (pin) de 0 à 16 ainsi que 19 et 20.\n",
    "\n",
    "<img src=\"https://microbit-micropython.readthedocs.io/en/v1.0.1/_images/pinout.png\" alt=\"Broches\" width=60%>\n",
    "\n",
    "Si ces broches sont utilisées en tant qu'entrée digitale alors leurs autres fonctionnalités potentielles ne sont plus disponibles. Par exemple les broches pin5 et pin11 sont aussi raccordées respectivement au boutons A et B. De même les broches pin3, pin4, pin6, pin7, pin9 et pin10 sont utilisées pour la matrice de LEDs et il faut [désactiver l'affichage](https://microbit-micropython.readthedocs.io/en/latest/display.html#microbit.display.off) pour les utiliser à autre chose...\n",
    "\n",
    "Pour pouvoir utiliser ces broches il faut les raccorder à d'autres composants électoniques par l'intermédiaire de fils à connecteur bannane ou à pince crocodile ou encore avec des straps sur une breadboard via un connecteur...\n",
    "\n",
    "<img src=\"https://ericecmorlaix.github.io/img/breadbit.png\" width=\"40%\">\n",
    "<center><figcaption><a href=\"https://www.proto-pic.co.uk/breadbit-prototyping-system-for-microbit.html\">bread:bit</a></figcaption></center>\n",
    "\n",
    "Plus d'informations sur les broches du BBC micro:bit :\n",
    "\n",
    "- https://microbit-micropython.readthedocs.io/en/v1.0.1/pin.html\n",
    "- https://tech.microbit.org/hardware/edgeconnector/\n",
    "- http://www.multiwingspan.co.uk/micro.php?page=pycomp\n",
    "- http://www.multiwingspan.co.uk/micro.php?page=pybutt1\n",
    "\n"
   ]
  },
  {
   "cell_type": "markdown",
   "metadata": {},
   "source": [
    "## Sorties Digitales :\n",
    "Raccorder une LED à la broche pin1 et essayer le programme suivant :"
   ]
  },
  {
   "cell_type": "code",
   "execution_count": null,
   "metadata": {},
   "outputs": [],
   "source": [
    "from microbit import *\n",
    "\n",
    "pin1.write_digital(0)\n",
    "\n",
    "while True:\n",
    "    if button_a.is_pressed():\n",
    "        pin1.write_digital(1)\n",
    "    elif button_b.is_pressed():\n",
    "        display.scroll(\"kenavo\")\n",
    "        break\n",
    "    else:\n",
    "        pin1.write_digital(0)\n",
    "\n",
    "display.clear()"
   ]
  },
  {
   "cell_type": "markdown",
   "metadata": {},
   "source": [
    "- https://microbit-micropython.readthedocs.io/en/v1.0.1/pin.html\n",
    "- http://www.multiwingspan.co.uk/micro.php?page=pymoreled"
   ]
  },
  {
   "cell_type": "markdown",
   "metadata": {},
   "source": [
    "## Communication :\n",
    "\n",
    "### Série :\n",
    "- https://microbit-micropython.readthedocs.io/fr/latest/tutorials/network.html\n",
    "- https://microbit-micropython.readthedocs.io/en/v1.0.1/uart.html\n",
    "- http://www.multiwingspan.co.uk/micro.php?page=pybit2bit\n",
    "\n",
    "### Radio :\n",
    "- https://microbit-micropython.readthedocs.io/fr/latest/tutorials/radio.html\n",
    "- http://www.multiwingspan.co.uk/micro.php?page=radio\n",
    "- https://microbit-micropython.readthedocs.io/en/v1.0.1/radio.html\n",
    "\n",
    "### I2C, SPI :\n",
    "- https://microbit-micropython.readthedocs.io/en/v1.0.1/i2c.html\n",
    "- https://microbit-micropython.readthedocs.io/en/v1.0.1/spi.html\n",
    "- http://www.multiwingspan.co.uk/micro.php?page=chuck"
   ]
  },
  {
   "cell_type": "markdown",
   "metadata": {},
   "source": [
    "## os :\n",
    "- http://www.multiwingspan.co.uk/micro.php?page=files\n",
    "- https://microbit-micropython.readthedocs.io/en/v1.0.1/tutorials/storage.html\n",
    "- https://microbit-micropython.readthedocs.io/en/v1.0.1/filesystem.html\n",
    "- https://microbit-micropython.readthedocs.io/en/v1.0.1/os.html"
   ]
  },
  {
   "cell_type": "markdown",
   "metadata": {},
   "source": [
    "## Capteurs embarqués :\n",
    "\n",
    "### Température :\n",
    "\n",
    "http://www.multiwingspan.co.uk/micro.php?page=hot\n",
    "https://microbit-micropython.readthedocs.io/en/v1.0.1/microbit.html#microbit.temperature\n",
    "\n",
    "### Luminosité :\n",
    "\n",
    "\n",
    "- https://microbit-micropython.readthedocs.io/en/latest/display.html#microbit.display.read_light_level\n",
    "\n",
    "\n",
    "### Accéléromètre :\n",
    "- https://microbit-micropython.readthedocs.io/fr/latest/tutorials/movement.html\n",
    "- https://microbit-micropython.readthedocs.io/fr/latest/tutorials/gestures.html\n",
    "- http://www.multiwingspan.co.uk/micro.php?page=pyacc\n",
    "- https://microbit-micropython.readthedocs.io/fr/latest/accelerometer.html\n",
    "\n",
    "### Boussole :\n",
    "- https://microbit-micropython.readthedocs.io/fr/latest/tutorials/direction.html\n",
    "- https://microbit-micropython.readthedocs.io/en/v1.0.1/compass.html"
   ]
  },
  {
   "cell_type": "markdown",
   "metadata": {},
   "source": [
    "## Entrées Analogiques :\n",
    "- https://microbit-micropython.readthedocs.io/en/v1.0.1/pin.html#microbit.MicroBitAnalogDigitalPin\n",
    "- http://www.multiwingspan.co.uk/micro.php?page=pypot\n",
    "- http://www.multiwingspan.co.uk/micro.php?page=pybutt\n",
    "\n",
    "## Sorties PWM :\n",
    "- https://microbit-micropython.readthedocs.io/en/v1.0.1/pin.html#pulse-width-modulation"
   ]
  },
  {
   "cell_type": "markdown",
   "metadata": {},
   "source": [
    "## Faites du Bruit :\n",
    "### Musique :\n",
    "- https://microbit-micropython.readthedocs.io/fr/latest/tutorials/music.html\n",
    "- https://microbit-micropython.readthedocs.io/en/v1.0.1/music.html\n",
    "- https://microbit-micropython.readthedocs.io/en/v1.0.1/audio.html\n",
    "\n",
    "### Voix :\n",
    "- http://www.multiwingspan.co.uk/micro.php?page=speech\n",
    "- https://microbit-micropython.readthedocs.io/en/v1.0.1/tutorials/speech.html\n",
    "- https://microbit-micropython.readthedocs.io/en/v1.0.1/speech.html\n",
    "\n",
    "### Buzzer\n",
    "- https://microbit-micropython.readthedocs.io/fr/latest/tutorials/io.html#bip-bip\n",
    "- http://www.multiwingspan.co.uk/micro.php?page=pybuzz"
   ]
  },
  {
   "cell_type": "markdown",
   "metadata": {
    "slideshow": {
     "slide_type": ""
    }
   },
   "source": [
    " # Simulateur Python :\n",
    " \n",
    " Contrairement à la programmation dans l'éditeur [JavaScript Block Editor](https://makecode.microbit.org/), il n'existe pas de simulateur officiel pour le BBC micro:bit en mode Python.\n",
    " \n",
    " Il en existe cependant un non-officiel à l'adresse : https://create.withcode.uk/.\n",
    " \n",
    " Il suffit d'y coller un code pour micro:bit en Python et d'appuyer sur la combinaison de touches `Ctrl+Entrée` pour l'exécuter.\n",
    " \n",
    " Par exemple, essayez avec :\n",
    " ````python\n",
    "from microbit import *\n",
    "\n",
    "while True:\n",
    "    display.scroll('Hello, World!')\n",
    "    display.show(Image.HEART)\n",
    "    sleep(2000)\n",
    "````\n",
    "Voir aussi : https://blog.withcode.uk/"
   ]
  },
  {
   "cell_type": "markdown",
   "metadata": {
    "slideshow": {
     "slide_type": ""
    }
   },
   "source": [
    "\n",
    " \n",
    " # Ressources :\n",
    " \n",
    "- https://fr.wikipedia.org/wiki/Micro:bit\n",
    " \n",
    "RTFM\n",
    " \n",
    "RTFD : https://microbit-micropython.readthedocs.io\n",
    " \n",
    "Le dépot GitHub des codes sources de MicroPython pour le BBC micro:bit et de l'éditeur en ligne :\n",
    "- https://github.com/bbcmicrobit\n",
    " \n",
    "MicroPython :\n",
    "- Site : http://micropython.org/\n",
    "- GitHub : \n",
    "- Livre \"Programmer avec MicroPÿthon\" : https://github.com/ntoll/programming-with-micropython\n",
    "\n",
    "\n",
    "Support : \n",
    "- https://support.microbit.org/support/home \n",
    "- http://microbit.org/fr/guide/features/\n",
    "- https://tech.microbit.org/\n",
    "\n",
    "\n",
    "Modèle 3D du BBC micro:bit https://www.kitronik.co.uk/blog/bbc-microbit-cad-resources/\n",
    "                            \n",
    "Des tutoriel et projets :\n",
    "- http://www.multiwingspan.co.uk/micro.php\n",
    "- https://learn.adafruit.com/bbc-micro-bit-lesson-number-0/intro\n",
    "- https://www.instructables.com/id/Microbit-Selfie-Remote/\n",
    "\n",
    "Quelques projets depuis une Rasberry Pi en MicroPython avec l'éditeur MU :\n",
    "- https://projects.raspberrypi.org/en/projects/getting-started-with-microbit\n",
    "- https://projects.raspberrypi.org/en/projects/microbit-selfies\n",
    "- https://projects.raspberrypi.org/en/projects/microbit-meteorologist\n",
    "- https://projects.raspberrypi.org/en/projects/micromine-bitcraft\n",
    "- https://github.com/raspberrypilearning/microbit-game-controller\n",
    "                            \n",
    "Micro:bit with Arduino : https://learn.adafruit.com/use-micro-bit-with-arduino/overview                            "
   ]
  },
  {
   "cell_type": "code",
   "execution_count": null,
   "metadata": {},
   "outputs": [],
   "source": []
  }
 ],
 "metadata": {
  "_draft": {
   "nbviewer_url": "https://gist.github.com/45e70301e7722580d21824c62b26b259"
  },
  "anaconda-cloud": {},
  "gist": {
   "data": {
    "description": "Documents/mesBN/BBCmicrobit-Un_BN_Pour_MicroPython.ipynb",
    "public": true
   },
   "id": "45e70301e7722580d21824c62b26b259"
  },
  "hide_input": false,
  "kernelspec": {
   "display_name": "Python 3",
   "language": "python",
   "name": "python3"
  },
  "language_info": {
   "codemirror_mode": {
    "name": "ipython",
    "version": 3
   },
   "file_extension": ".py",
   "mimetype": "text/x-python",
   "name": "python",
   "nbconvert_exporter": "python",
   "pygments_lexer": "ipython3",
   "version": "3.7.3"
  },
  "toc": {
   "base_numbering": 1,
   "nav_menu": {},
   "number_sections": true,
   "sideBar": true,
   "skip_h1_title": false,
   "title_cell": "Table of Contents",
   "title_sidebar": "Contents",
   "toc_cell": false,
   "toc_position": {},
   "toc_section_display": true,
   "toc_window_display": false
  },
  "varInspector": {
   "cols": {
    "lenName": 16,
    "lenType": 16,
    "lenVar": 40
   },
   "kernels_config": {
    "python": {
     "delete_cmd_postfix": "",
     "delete_cmd_prefix": "del ",
     "library": "var_list.py",
     "varRefreshCmd": "print(var_dic_list())"
    },
    "r": {
     "delete_cmd_postfix": ") ",
     "delete_cmd_prefix": "rm(",
     "library": "var_list.r",
     "varRefreshCmd": "cat(var_dic_list()) "
    }
   },
   "types_to_exclude": [
    "module",
    "function",
    "builtin_function_or_method",
    "instance",
    "_Feature"
   ],
   "window_display": false
  }
 },
 "nbformat": 4,
 "nbformat_minor": 2
}
